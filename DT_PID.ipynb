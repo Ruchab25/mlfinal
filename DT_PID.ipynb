{
 "cells": [
  {
   "cell_type": "code",
   "execution_count": 1,
   "id": "022788bd",
   "metadata": {},
   "outputs": [],
   "source": [
    "import pandas as pd\n",
    "import numpy as np\n",
    "import matplotlib.pyplot as plt\n",
    "import seaborn as sns\n",
    "%matplotlib inline\n",
    "from sklearn.tree import DecisionTreeClassifier\n",
    "import sklearn.tree as tree\n",
    "import sys"
   ]
  },
  {
   "cell_type": "code",
   "execution_count": 2,
   "id": "7f357608",
   "metadata": {},
   "outputs": [],
   "source": [
    "data = pd.read_csv(\"E:/BeTech 3rd year/sem2/ML/Pima Indian diabetes.csv\")"
   ]
  },
  {
   "cell_type": "code",
   "execution_count": 3,
   "id": "cb102d96",
   "metadata": {},
   "outputs": [
    {
     "name": "stdout",
     "output_type": "stream",
     "text": [
      "(768, 9)\n",
      "   Pregnancies  Glucose  BloodPressure  SkinThickness  Insulin   BMI  \\\n",
      "0            6      148             72             35        0  33.6   \n",
      "1            1       85             66             29        0  26.6   \n",
      "2            8      183             64              0        0  23.3   \n",
      "3            1       89             66             23       94  28.1   \n",
      "4            0      137             40             35      168  43.1   \n",
      "\n",
      "   DiabetesPedigreeFunction  Age  Outcome  \n",
      "0                     0.627   50        1  \n",
      "1                     0.351   31        0  \n",
      "2                     0.672   32        1  \n",
      "3                     0.167   21        0  \n",
      "4                     2.288   33        1  \n",
      "Index(['Pregnancies', 'Glucose', 'BloodPressure', 'SkinThickness', 'Insulin',\n",
      "       'BMI', 'DiabetesPedigreeFunction', 'Age', 'Outcome'],\n",
      "      dtype='object')\n"
     ]
    }
   ],
   "source": [
    "print(data.shape)\n",
    "print(data.head())\n",
    "print(data.columns)"
   ]
  },
  {
   "cell_type": "code",
   "execution_count": 4,
   "id": "a7dda582",
   "metadata": {},
   "outputs": [
    {
     "name": "stdout",
     "output_type": "stream",
     "text": [
      "       Pregnancies     Glucose  BloodPressure  SkinThickness     Insulin  \\\n",
      "count   768.000000  768.000000     768.000000     768.000000  768.000000   \n",
      "mean      3.845052  120.894531      69.105469      20.536458   79.799479   \n",
      "std       3.369578   31.972618      19.355807      15.952218  115.244002   \n",
      "min       0.000000    0.000000       0.000000       0.000000    0.000000   \n",
      "25%       1.000000   99.000000      62.000000       0.000000    0.000000   \n",
      "50%       3.000000  117.000000      72.000000      23.000000   30.500000   \n",
      "75%       6.000000  140.250000      80.000000      32.000000  127.250000   \n",
      "max      17.000000  199.000000     122.000000      99.000000  846.000000   \n",
      "\n",
      "              BMI  DiabetesPedigreeFunction         Age     Outcome  \n",
      "count  768.000000                768.000000  768.000000  768.000000  \n",
      "mean    31.992578                  0.471876   33.240885    0.348958  \n",
      "std      7.884160                  0.331329   11.760232    0.476951  \n",
      "min      0.000000                  0.078000   21.000000    0.000000  \n",
      "25%     27.300000                  0.243750   24.000000    0.000000  \n",
      "50%     32.000000                  0.372500   29.000000    0.000000  \n",
      "75%     36.600000                  0.626250   41.000000    1.000000  \n",
      "max     67.100000                  2.420000   81.000000    1.000000  \n"
     ]
    }
   ],
   "source": [
    "print(data.describe())"
   ]
  },
  {
   "cell_type": "code",
   "execution_count": 6,
   "id": "c370c509",
   "metadata": {},
   "outputs": [],
   "source": [
    "features_cols = ['Pregnancies', 'Glucose', 'BloodPressure', 'SkinThickness', 'Insulin', 'BMI', 'DiabetesPedigreeFunction','Age']\n",
    "X = data[features_cols]\n",
    "\n",
    "y = data['Outcome']\n"
   ]
  },
  {
   "cell_type": "code",
   "execution_count": 7,
   "id": "3043cff4",
   "metadata": {},
   "outputs": [],
   "source": [
    "from sklearn.model_selection import train_test_split"
   ]
  },
  {
   "cell_type": "code",
   "execution_count": 8,
   "id": "ce42a05e",
   "metadata": {},
   "outputs": [],
   "source": [
    "X_trainset, X_testset, y_trainset, y_testset = train_test_split(X, y, test_size=0.3, random_state=3)"
   ]
  },
  {
   "cell_type": "code",
   "execution_count": 9,
   "id": "5121cfc7",
   "metadata": {},
   "outputs": [
    {
     "data": {
      "text/plain": [
       "DecisionTreeClassifier(criterion='entropy', max_depth=4)"
      ]
     },
     "execution_count": 9,
     "metadata": {},
     "output_type": "execute_result"
    }
   ],
   "source": [
    "drugTree = DecisionTreeClassifier(criterion=\"entropy\", max_depth = 4)\n",
    "drugTree # it shows the default parameters"
   ]
  },
  {
   "cell_type": "code",
   "execution_count": 10,
   "id": "bd8fc009",
   "metadata": {},
   "outputs": [
    {
     "data": {
      "text/plain": [
       "DecisionTreeClassifier(criterion='entropy', max_depth=4)"
      ]
     },
     "execution_count": 10,
     "metadata": {},
     "output_type": "execute_result"
    }
   ],
   "source": [
    "drugTree.fit(X_trainset,y_trainset)"
   ]
  },
  {
   "cell_type": "code",
   "execution_count": 11,
   "id": "56a43969",
   "metadata": {},
   "outputs": [],
   "source": [
    "predTree = drugTree.predict(X_testset)"
   ]
  },
  {
   "cell_type": "code",
   "execution_count": 13,
   "id": "53d74bce",
   "metadata": {},
   "outputs": [
    {
     "name": "stdout",
     "output_type": "stream",
     "text": [
      "Accuracy: 1.0\n",
      "Accuracy: 0.6666666666666666\n",
      "0.7228860936408106\n"
     ]
    }
   ],
   "source": [
    "from sklearn.tree import DecisionTreeClassifier\n",
    "from sklearn.model_selection import cross_val_score\n",
    "from sklearn.model_selection import train_test_split\n",
    "from sklearn import metrics\n",
    "\n",
    "x_train, x_test, y_train, y_test = train_test_split(X, y, test_size= 0.3)\n",
    "\n",
    "clf = DecisionTreeClassifier()\n",
    "clf = clf.fit(x_train, y_train)\n",
    "y_pred = clf.predict(x_test)\n",
    "Y_train_pred = clf.predict(x_train)\n",
    "print(\"Accuracy:\",metrics.accuracy_score(y_train, Y_train_pred))#training accuracy\n",
    "print(\"Accuracy:\",metrics.accuracy_score(y_test, y_pred))#testing accuracy\n",
    "\n",
    "clf1 = DecisionTreeClassifier()\n",
    "print(cross_val_score(clf1, x_train, y_train, cv=10, scoring='accuracy').mean())"
   ]
  },
  {
   "cell_type": "code",
   "execution_count": 14,
   "id": "33bcf2fd",
   "metadata": {},
   "outputs": [
    {
     "data": {
      "text/plain": [
       "[Text(207.29546703296705, 209.6742857142857, 'X[1] <= 154.5\\ngini = 0.446\\nsamples = 537\\nvalue = [357, 180]'),\n",
       " Text(98.64642857142857, 194.14285714285714, 'X[1] <= 108.5\\ngini = 0.369\\nsamples = 450\\nvalue = [340, 110]'),\n",
       " Text(55.6467032967033, 178.61142857142858, 'X[0] <= 6.5\\ngini = 0.179\\nsamples = 211\\nvalue = [190, 21]'),\n",
       " Text(37.71098901098901, 163.07999999999998, 'X[7] <= 49.0\\ngini = 0.099\\nsamples = 172\\nvalue = [163, 9]'),\n",
       " Text(27.593406593406595, 147.54857142857142, 'X[6] <= 0.703\\ngini = 0.079\\nsamples = 169\\nvalue = [162, 7]'),\n",
       " Text(18.395604395604398, 132.01714285714286, 'X[5] <= 45.4\\ngini = 0.041\\nsamples = 145\\nvalue = [142, 3]'),\n",
       " Text(14.716483516483517, 116.48571428571428, 'X[3] <= 41.5\\ngini = 0.027\\nsamples = 144\\nvalue = [142, 2]'),\n",
       " Text(7.358241758241759, 100.9542857142857, 'X[2] <= 81.0\\ngini = 0.014\\nsamples = 137\\nvalue = [136, 1]'),\n",
       " Text(3.6791208791208794, 85.42285714285714, 'gini = 0.0\\nsamples = 127\\nvalue = [127, 0]'),\n",
       " Text(11.037362637362637, 85.42285714285714, 'X[6] <= 0.189\\ngini = 0.18\\nsamples = 10\\nvalue = [9, 1]'),\n",
       " Text(7.358241758241759, 69.89142857142858, 'X[3] <= 20.5\\ngini = 0.5\\nsamples = 2\\nvalue = [1, 1]'),\n",
       " Text(3.6791208791208794, 54.359999999999985, 'gini = 0.0\\nsamples = 1\\nvalue = [0, 1]'),\n",
       " Text(11.037362637362637, 54.359999999999985, 'gini = 0.0\\nsamples = 1\\nvalue = [1, 0]'),\n",
       " Text(14.716483516483517, 69.89142857142858, 'gini = 0.0\\nsamples = 8\\nvalue = [8, 0]'),\n",
       " Text(22.074725274725274, 100.9542857142857, 'X[4] <= 27.0\\ngini = 0.245\\nsamples = 7\\nvalue = [6, 1]'),\n",
       " Text(18.395604395604398, 85.42285714285714, 'gini = 0.0\\nsamples = 1\\nvalue = [0, 1]'),\n",
       " Text(25.753846153846155, 85.42285714285714, 'gini = 0.0\\nsamples = 6\\nvalue = [6, 0]'),\n",
       " Text(22.074725274725274, 116.48571428571428, 'gini = 0.0\\nsamples = 1\\nvalue = [0, 1]'),\n",
       " Text(36.791208791208796, 132.01714285714286, 'X[5] <= 31.85\\ngini = 0.278\\nsamples = 24\\nvalue = [20, 4]'),\n",
       " Text(33.112087912087915, 116.48571428571428, 'gini = 0.0\\nsamples = 14\\nvalue = [14, 0]'),\n",
       " Text(40.470329670329676, 116.48571428571428, 'X[5] <= 36.7\\ngini = 0.48\\nsamples = 10\\nvalue = [6, 4]'),\n",
       " Text(36.791208791208796, 100.9542857142857, 'X[4] <= 63.0\\ngini = 0.32\\nsamples = 5\\nvalue = [1, 4]'),\n",
       " Text(33.112087912087915, 85.42285714285714, 'gini = 0.0\\nsamples = 1\\nvalue = [1, 0]'),\n",
       " Text(40.470329670329676, 85.42285714285714, 'gini = 0.0\\nsamples = 4\\nvalue = [0, 4]'),\n",
       " Text(44.14945054945055, 100.9542857142857, 'gini = 0.0\\nsamples = 5\\nvalue = [5, 0]'),\n",
       " Text(47.82857142857143, 147.54857142857142, 'X[2] <= 74.0\\ngini = 0.444\\nsamples = 3\\nvalue = [1, 2]'),\n",
       " Text(44.14945054945055, 132.01714285714286, 'gini = 0.0\\nsamples = 1\\nvalue = [1, 0]'),\n",
       " Text(51.50769230769231, 132.01714285714286, 'gini = 0.0\\nsamples = 2\\nvalue = [0, 2]'),\n",
       " Text(73.58241758241759, 163.07999999999998, 'X[6] <= 0.631\\ngini = 0.426\\nsamples = 39\\nvalue = [27, 12]'),\n",
       " Text(66.22417582417583, 147.54857142857142, 'X[1] <= 106.5\\ngini = 0.334\\nsamples = 33\\nvalue = [26, 7]'),\n",
       " Text(62.54505494505495, 132.01714285714286, 'X[0] <= 13.5\\ngini = 0.271\\nsamples = 31\\nvalue = [26, 5]'),\n",
       " Text(58.86593406593407, 116.48571428571428, 'X[5] <= 38.9\\ngini = 0.231\\nsamples = 30\\nvalue = [26, 4]'),\n",
       " Text(51.50769230769231, 100.9542857142857, 'X[0] <= 11.0\\ngini = 0.142\\nsamples = 26\\nvalue = [24, 2]'),\n",
       " Text(47.82857142857143, 85.42285714285714, 'gini = 0.0\\nsamples = 18\\nvalue = [18, 0]'),\n",
       " Text(55.18681318681319, 85.42285714285714, 'X[7] <= 39.5\\ngini = 0.375\\nsamples = 8\\nvalue = [6, 2]'),\n",
       " Text(51.50769230769231, 69.89142857142858, 'gini = 0.0\\nsamples = 1\\nvalue = [0, 1]'),\n",
       " Text(58.86593406593407, 69.89142857142858, 'X[1] <= 86.0\\ngini = 0.245\\nsamples = 7\\nvalue = [6, 1]'),\n",
       " Text(55.18681318681319, 54.359999999999985, 'X[7] <= 43.5\\ngini = 0.5\\nsamples = 2\\nvalue = [1, 1]'),\n",
       " Text(51.50769230769231, 38.82857142857142, 'gini = 0.0\\nsamples = 1\\nvalue = [1, 0]'),\n",
       " Text(58.86593406593407, 38.82857142857142, 'gini = 0.0\\nsamples = 1\\nvalue = [0, 1]'),\n",
       " Text(62.54505494505495, 54.359999999999985, 'gini = 0.0\\nsamples = 5\\nvalue = [5, 0]'),\n",
       " Text(66.22417582417583, 100.9542857142857, 'X[5] <= 44.75\\ngini = 0.5\\nsamples = 4\\nvalue = [2, 2]'),\n",
       " Text(62.54505494505495, 85.42285714285714, 'gini = 0.0\\nsamples = 2\\nvalue = [0, 2]'),\n",
       " Text(69.9032967032967, 85.42285714285714, 'gini = 0.0\\nsamples = 2\\nvalue = [2, 0]'),\n",
       " Text(66.22417582417583, 116.48571428571428, 'gini = 0.0\\nsamples = 1\\nvalue = [0, 1]'),\n",
       " Text(69.9032967032967, 132.01714285714286, 'gini = 0.0\\nsamples = 2\\nvalue = [0, 2]'),\n",
       " Text(80.94065934065935, 147.54857142857142, 'X[2] <= 67.0\\ngini = 0.278\\nsamples = 6\\nvalue = [1, 5]'),\n",
       " Text(77.26153846153846, 132.01714285714286, 'gini = 0.0\\nsamples = 1\\nvalue = [1, 0]'),\n",
       " Text(84.61978021978022, 132.01714285714286, 'gini = 0.0\\nsamples = 5\\nvalue = [0, 5]'),\n",
       " Text(141.64615384615385, 178.61142857142858, 'X[5] <= 27.35\\ngini = 0.467\\nsamples = 239\\nvalue = [150, 89]'),\n",
       " Text(91.97802197802199, 163.07999999999998, 'X[5] <= 9.8\\ngini = 0.172\\nsamples = 42\\nvalue = [38, 4]'),\n",
       " Text(88.2989010989011, 147.54857142857142, 'gini = 0.0\\nsamples = 2\\nvalue = [0, 2]'),\n",
       " Text(95.65714285714286, 147.54857142857142, 'X[1] <= 133.0\\ngini = 0.095\\nsamples = 40\\nvalue = [38, 2]'),\n",
       " Text(91.97802197802199, 132.01714285714286, 'gini = 0.0\\nsamples = 28\\nvalue = [28, 0]'),\n",
       " Text(99.33626373626375, 132.01714285714286, 'X[5] <= 23.95\\ngini = 0.278\\nsamples = 12\\nvalue = [10, 2]'),\n",
       " Text(95.65714285714286, 116.48571428571428, 'gini = 0.0\\nsamples = 1\\nvalue = [0, 1]'),\n",
       " Text(103.01538461538462, 116.48571428571428, 'X[2] <= 57.0\\ngini = 0.165\\nsamples = 11\\nvalue = [10, 1]'),\n",
       " Text(99.33626373626375, 100.9542857142857, 'X[6] <= 0.544\\ngini = 0.5\\nsamples = 2\\nvalue = [1, 1]'),\n",
       " Text(95.65714285714286, 85.42285714285714, 'gini = 0.0\\nsamples = 1\\nvalue = [0, 1]'),\n",
       " Text(103.01538461538462, 85.42285714285714, 'gini = 0.0\\nsamples = 1\\nvalue = [1, 0]'),\n",
       " Text(106.6945054945055, 100.9542857142857, 'gini = 0.0\\nsamples = 9\\nvalue = [9, 0]'),\n",
       " Text(191.31428571428572, 163.07999999999998, 'X[7] <= 30.5\\ngini = 0.491\\nsamples = 197\\nvalue = [112, 85]'),\n",
       " Text(139.8065934065934, 147.54857142857142, 'X[3] <= 5.5\\ngini = 0.422\\nsamples = 99\\nvalue = [69, 30]'),\n",
       " Text(125.0901098901099, 132.01714285714286, 'X[7] <= 28.5\\ngini = 0.499\\nsamples = 25\\nvalue = [12, 13]'),\n",
       " Text(121.41098901098901, 116.48571428571428, 'X[6] <= 0.238\\ngini = 0.36\\nsamples = 17\\nvalue = [4, 13]'),\n",
       " Text(114.05274725274727, 100.9542857142857, 'X[1] <= 123.0\\ngini = 0.48\\nsamples = 5\\nvalue = [3, 2]'),\n",
       " Text(110.37362637362638, 85.42285714285714, 'X[5] <= 32.45\\ngini = 0.444\\nsamples = 3\\nvalue = [1, 2]'),\n",
       " Text(106.6945054945055, 69.89142857142858, 'gini = 0.0\\nsamples = 1\\nvalue = [1, 0]'),\n",
       " Text(114.05274725274727, 69.89142857142858, 'gini = 0.0\\nsamples = 2\\nvalue = [0, 2]'),\n",
       " Text(117.73186813186814, 85.42285714285714, 'gini = 0.0\\nsamples = 2\\nvalue = [2, 0]'),\n",
       " Text(128.76923076923077, 100.9542857142857, 'X[1] <= 146.5\\ngini = 0.153\\nsamples = 12\\nvalue = [1, 11]'),\n",
       " Text(125.0901098901099, 85.42285714285714, 'gini = 0.0\\nsamples = 11\\nvalue = [0, 11]'),\n",
       " Text(132.44835164835166, 85.42285714285714, 'gini = 0.0\\nsamples = 1\\nvalue = [1, 0]'),\n",
       " Text(128.76923076923077, 116.48571428571428, 'gini = 0.0\\nsamples = 8\\nvalue = [8, 0]'),\n",
       " Text(154.52307692307693, 132.01714285714286, 'X[6] <= 0.313\\ngini = 0.354\\nsamples = 74\\nvalue = [57, 17]'),\n",
       " Text(147.16483516483518, 116.48571428571428, 'X[4] <= 26.5\\ngini = 0.137\\nsamples = 27\\nvalue = [25, 2]'),\n",
       " Text(143.4857142857143, 100.9542857142857, 'X[3] <= 39.5\\ngini = 0.375\\nsamples = 8\\nvalue = [6, 2]'),\n",
       " Text(139.8065934065934, 85.42285714285714, 'X[0] <= 2.5\\ngini = 0.245\\nsamples = 7\\nvalue = [6, 1]'),\n",
       " Text(136.12747252747255, 69.89142857142858, 'gini = 0.0\\nsamples = 5\\nvalue = [5, 0]'),\n",
       " Text(143.4857142857143, 69.89142857142858, 'X[1] <= 111.5\\ngini = 0.5\\nsamples = 2\\nvalue = [1, 1]'),\n",
       " Text(139.8065934065934, 54.359999999999985, 'gini = 0.0\\nsamples = 1\\nvalue = [1, 0]'),\n",
       " Text(147.16483516483518, 54.359999999999985, 'gini = 0.0\\nsamples = 1\\nvalue = [0, 1]'),\n",
       " Text(147.16483516483518, 85.42285714285714, 'gini = 0.0\\nsamples = 1\\nvalue = [0, 1]'),\n",
       " Text(150.84395604395604, 100.9542857142857, 'gini = 0.0\\nsamples = 19\\nvalue = [19, 0]'),\n",
       " Text(161.8813186813187, 116.48571428571428, 'X[6] <= 0.373\\ngini = 0.435\\nsamples = 47\\nvalue = [32, 15]'),\n",
       " Text(158.20219780219782, 100.9542857142857, 'gini = 0.0\\nsamples = 4\\nvalue = [0, 4]'),\n",
       " Text(165.56043956043956, 100.9542857142857, 'X[2] <= 73.0\\ngini = 0.381\\nsamples = 43\\nvalue = [32, 11]'),\n",
       " Text(158.20219780219782, 85.42285714285714, 'X[5] <= 30.3\\ngini = 0.48\\nsamples = 25\\nvalue = [15, 10]'),\n",
       " Text(154.52307692307693, 69.89142857142858, 'gini = 0.0\\nsamples = 7\\nvalue = [7, 0]'),\n",
       " Text(161.8813186813187, 69.89142857142858, 'X[3] <= 29.0\\ngini = 0.494\\nsamples = 18\\nvalue = [8, 10]'),\n",
       " Text(158.20219780219782, 54.359999999999985, 'gini = 0.0\\nsamples = 5\\nvalue = [0, 5]'),\n",
       " Text(165.56043956043956, 54.359999999999985, 'X[3] <= 32.5\\ngini = 0.473\\nsamples = 13\\nvalue = [8, 5]'),\n",
       " Text(161.8813186813187, 38.82857142857142, 'gini = 0.0\\nsamples = 6\\nvalue = [6, 0]'),\n",
       " Text(169.23956043956045, 38.82857142857142, 'X[5] <= 37.9\\ngini = 0.408\\nsamples = 7\\nvalue = [2, 5]'),\n",
       " Text(165.56043956043956, 23.29714285714286, 'gini = 0.0\\nsamples = 5\\nvalue = [0, 5]'),\n",
       " Text(172.91868131868134, 23.29714285714286, 'gini = 0.0\\nsamples = 2\\nvalue = [2, 0]'),\n",
       " Text(172.91868131868134, 85.42285714285714, 'X[5] <= 44.2\\ngini = 0.105\\nsamples = 18\\nvalue = [17, 1]'),\n",
       " Text(169.23956043956045, 69.89142857142858, 'gini = 0.0\\nsamples = 16\\nvalue = [16, 0]'),\n",
       " Text(176.5978021978022, 69.89142857142858, 'X[1] <= 136.5\\ngini = 0.5\\nsamples = 2\\nvalue = [1, 1]'),\n",
       " Text(172.91868131868134, 54.359999999999985, 'gini = 0.0\\nsamples = 1\\nvalue = [0, 1]'),\n",
       " Text(180.27692307692308, 54.359999999999985, 'gini = 0.0\\nsamples = 1\\nvalue = [1, 0]'),\n",
       " Text(242.82197802197803, 147.54857142857142, 'X[6] <= 0.514\\ngini = 0.493\\nsamples = 98\\nvalue = [43, 55]'),\n",
       " Text(224.42637362637365, 132.01714285714286, 'X[2] <= 84.5\\ngini = 0.49\\nsamples = 56\\nvalue = [32, 24]'),\n",
       " Text(217.06813186813187, 116.48571428571428, 'X[2] <= 81.0\\ngini = 0.499\\nsamples = 40\\nvalue = [19, 21]'),\n",
       " Text(213.389010989011, 100.9542857142857, 'X[1] <= 137.0\\ngini = 0.496\\nsamples = 35\\nvalue = [19, 16]'),\n",
       " Text(202.35164835164838, 85.42285714285714, 'X[6] <= 0.421\\ngini = 0.488\\nsamples = 26\\nvalue = [11, 15]'),\n",
       " Text(198.6725274725275, 69.89142857142858, 'X[5] <= 34.5\\ngini = 0.434\\nsamples = 22\\nvalue = [7, 15]'),\n",
       " Text(187.63516483516486, 54.359999999999985, 'X[1] <= 110.5\\ngini = 0.245\\nsamples = 14\\nvalue = [2, 12]'),\n",
       " Text(183.95604395604397, 38.82857142857142, 'gini = 0.0\\nsamples = 1\\nvalue = [1, 0]'),\n",
       " Text(191.31428571428572, 38.82857142857142, 'X[6] <= 0.104\\ngini = 0.142\\nsamples = 13\\nvalue = [1, 12]'),\n",
       " Text(187.63516483516486, 23.29714285714286, 'gini = 0.0\\nsamples = 1\\nvalue = [1, 0]'),\n",
       " Text(194.9934065934066, 23.29714285714286, 'gini = 0.0\\nsamples = 12\\nvalue = [0, 12]'),\n",
       " Text(209.70989010989013, 54.359999999999985, 'X[1] <= 131.5\\ngini = 0.469\\nsamples = 8\\nvalue = [5, 3]'),\n",
       " Text(206.03076923076924, 38.82857142857142, 'X[2] <= 68.0\\ngini = 0.278\\nsamples = 6\\nvalue = [5, 1]'),\n",
       " Text(202.35164835164838, 23.29714285714286, 'X[1] <= 120.5\\ngini = 0.5\\nsamples = 2\\nvalue = [1, 1]'),\n",
       " Text(198.6725274725275, 7.765714285714267, 'gini = 0.0\\nsamples = 1\\nvalue = [0, 1]'),\n",
       " Text(206.03076923076924, 7.765714285714267, 'gini = 0.0\\nsamples = 1\\nvalue = [1, 0]'),\n",
       " Text(209.70989010989013, 23.29714285714286, 'gini = 0.0\\nsamples = 4\\nvalue = [4, 0]'),\n",
       " Text(213.389010989011, 38.82857142857142, 'gini = 0.0\\nsamples = 2\\nvalue = [0, 2]'),\n",
       " Text(206.03076923076924, 69.89142857142858, 'gini = 0.0\\nsamples = 4\\nvalue = [4, 0]'),\n",
       " Text(224.42637362637365, 85.42285714285714, 'X[5] <= 30.2\\ngini = 0.198\\nsamples = 9\\nvalue = [8, 1]'),\n",
       " Text(220.74725274725276, 69.89142857142858, 'X[0] <= 5.0\\ngini = 0.5\\nsamples = 2\\nvalue = [1, 1]'),\n",
       " Text(217.06813186813187, 54.359999999999985, 'gini = 0.0\\nsamples = 1\\nvalue = [1, 0]'),\n",
       " Text(224.42637362637365, 54.359999999999985, 'gini = 0.0\\nsamples = 1\\nvalue = [0, 1]'),\n",
       " Text(228.10549450549453, 69.89142857142858, 'gini = 0.0\\nsamples = 7\\nvalue = [7, 0]'),\n",
       " Text(220.74725274725276, 100.9542857142857, 'gini = 0.0\\nsamples = 5\\nvalue = [0, 5]'),\n",
       " Text(231.7846153846154, 116.48571428571428, 'X[4] <= 126.5\\ngini = 0.305\\nsamples = 16\\nvalue = [13, 3]'),\n",
       " Text(228.10549450549453, 100.9542857142857, 'gini = 0.0\\nsamples = 12\\nvalue = [12, 0]'),\n",
       " Text(235.46373626373628, 100.9542857142857, 'X[5] <= 33.45\\ngini = 0.375\\nsamples = 4\\nvalue = [1, 3]'),\n",
       " Text(231.7846153846154, 85.42285714285714, 'gini = 0.0\\nsamples = 1\\nvalue = [1, 0]'),\n",
       " Text(239.14285714285717, 85.42285714285714, 'gini = 0.0\\nsamples = 3\\nvalue = [0, 3]'),\n",
       " Text(261.21758241758243, 132.01714285714286, 'X[1] <= 152.5\\ngini = 0.387\\nsamples = 42\\nvalue = [11, 31]'),\n",
       " Text(257.53846153846155, 116.48571428571428, 'X[0] <= 7.5\\ngini = 0.349\\nsamples = 40\\nvalue = [9, 31]'),\n",
       " Text(253.8593406593407, 100.9542857142857, 'X[3] <= 15.0\\ngini = 0.453\\nsamples = 26\\nvalue = [9, 17]'),\n",
       " Text(246.5010989010989, 85.42285714285714, 'X[5] <= 39.65\\ngini = 0.48\\nsamples = 10\\nvalue = [6, 4]'),\n",
       " Text(242.82197802197803, 69.89142857142858, 'X[1] <= 129.5\\ngini = 0.49\\nsamples = 7\\nvalue = [3, 4]'),\n",
       " Text(239.14285714285717, 54.359999999999985, 'X[5] <= 27.45\\ngini = 0.375\\nsamples = 4\\nvalue = [3, 1]'),\n",
       " Text(235.46373626373628, 38.82857142857142, 'gini = 0.0\\nsamples = 1\\nvalue = [0, 1]'),\n",
       " Text(242.82197802197803, 38.82857142857142, 'gini = 0.0\\nsamples = 3\\nvalue = [3, 0]'),\n",
       " Text(246.5010989010989, 54.359999999999985, 'gini = 0.0\\nsamples = 3\\nvalue = [0, 3]'),\n",
       " Text(250.1802197802198, 69.89142857142858, 'gini = 0.0\\nsamples = 3\\nvalue = [3, 0]'),\n",
       " Text(261.21758241758243, 85.42285714285714, 'X[4] <= 179.0\\ngini = 0.305\\nsamples = 16\\nvalue = [3, 13]'),\n",
       " Text(257.53846153846155, 69.89142857142858, 'gini = 0.0\\nsamples = 11\\nvalue = [0, 11]'),\n",
       " Text(264.8967032967033, 69.89142857142858, 'X[1] <= 119.0\\ngini = 0.48\\nsamples = 5\\nvalue = [3, 2]'),\n",
       " Text(261.21758241758243, 54.359999999999985, 'gini = 0.0\\nsamples = 2\\nvalue = [0, 2]'),\n",
       " Text(268.5758241758242, 54.359999999999985, 'gini = 0.0\\nsamples = 3\\nvalue = [3, 0]'),\n",
       " Text(261.21758241758243, 100.9542857142857, 'gini = 0.0\\nsamples = 14\\nvalue = [0, 14]'),\n",
       " Text(264.8967032967033, 116.48571428571428, 'gini = 0.0\\nsamples = 2\\nvalue = [2, 0]'),\n",
       " Text(315.9445054945055, 194.14285714285714, 'X[7] <= 62.5\\ngini = 0.314\\nsamples = 87\\nvalue = [17, 70]'),\n",
       " Text(308.58626373626373, 178.61142857142858, 'X[5] <= 23.1\\ngini = 0.269\\nsamples = 81\\nvalue = [13, 68]'),\n",
       " Text(304.9071428571429, 163.07999999999998, 'gini = 0.0\\nsamples = 1\\nvalue = [1, 0]'),\n",
       " Text(312.2653846153846, 163.07999999999998, 'X[2] <= 92.0\\ngini = 0.255\\nsamples = 80\\nvalue = [12, 68]'),\n",
       " Text(300.7681318681319, 147.54857142857142, 'X[4] <= 542.5\\ngini = 0.216\\nsamples = 73\\nvalue = [9, 64]'),\n",
       " Text(288.81098901098903, 132.01714285714286, 'X[6] <= 0.312\\ngini = 0.182\\nsamples = 69\\nvalue = [7, 62]'),\n",
       " Text(275.9340659340659, 116.48571428571428, 'X[6] <= 0.27\\ngini = 0.401\\nsamples = 18\\nvalue = [5, 13]'),\n",
       " Text(272.2549450549451, 100.9542857142857, 'X[0] <= 9.5\\ngini = 0.133\\nsamples = 14\\nvalue = [1, 13]'),\n",
       " Text(268.5758241758242, 85.42285714285714, 'gini = 0.0\\nsamples = 12\\nvalue = [0, 12]'),\n",
       " Text(275.9340659340659, 85.42285714285714, 'X[5] <= 34.35\\ngini = 0.5\\nsamples = 2\\nvalue = [1, 1]'),\n",
       " Text(272.2549450549451, 69.89142857142858, 'gini = 0.0\\nsamples = 1\\nvalue = [0, 1]'),\n",
       " Text(279.6131868131868, 69.89142857142858, 'gini = 0.0\\nsamples = 1\\nvalue = [1, 0]'),\n",
       " Text(279.6131868131868, 100.9542857142857, 'gini = 0.0\\nsamples = 4\\nvalue = [4, 0]'),\n",
       " Text(301.6879120879121, 116.48571428571428, 'X[5] <= 46.1\\ngini = 0.075\\nsamples = 51\\nvalue = [2, 49]'),\n",
       " Text(294.32967032967036, 100.9542857142857, 'X[1] <= 165.5\\ngini = 0.041\\nsamples = 48\\nvalue = [1, 47]'),\n",
       " Text(290.6505494505495, 85.42285714285714, 'X[7] <= 48.0\\ngini = 0.219\\nsamples = 8\\nvalue = [1, 7]'),\n",
       " Text(286.9714285714286, 69.89142857142858, 'gini = 0.0\\nsamples = 7\\nvalue = [0, 7]'),\n",
       " Text(294.32967032967036, 69.89142857142858, 'gini = 0.0\\nsamples = 1\\nvalue = [1, 0]'),\n",
       " Text(298.00879120879125, 85.42285714285714, 'gini = 0.0\\nsamples = 40\\nvalue = [0, 40]'),\n",
       " Text(309.04615384615386, 100.9542857142857, 'X[4] <= 182.5\\ngini = 0.444\\nsamples = 3\\nvalue = [1, 2]'),\n",
       " Text(305.36703296703297, 85.42285714285714, 'gini = 0.0\\nsamples = 2\\nvalue = [0, 2]'),\n",
       " Text(312.72527472527474, 85.42285714285714, 'gini = 0.0\\nsamples = 1\\nvalue = [1, 0]'),\n",
       " Text(312.72527472527474, 132.01714285714286, 'X[1] <= 168.5\\ngini = 0.5\\nsamples = 4\\nvalue = [2, 2]'),\n",
       " Text(309.04615384615386, 116.48571428571428, 'gini = 0.0\\nsamples = 2\\nvalue = [2, 0]'),\n",
       " Text(316.40439560439563, 116.48571428571428, 'gini = 0.0\\nsamples = 2\\nvalue = [0, 2]'),\n",
       " Text(323.7626373626374, 147.54857142857142, 'X[1] <= 175.0\\ngini = 0.49\\nsamples = 7\\nvalue = [3, 4]'),\n",
       " Text(320.0835164835165, 132.01714285714286, 'gini = 0.0\\nsamples = 3\\nvalue = [0, 3]'),\n",
       " Text(327.44175824175824, 132.01714285714286, 'X[0] <= 2.0\\ngini = 0.375\\nsamples = 4\\nvalue = [3, 1]'),\n",
       " Text(323.7626373626374, 116.48571428571428, 'gini = 0.0\\nsamples = 1\\nvalue = [0, 1]'),\n",
       " Text(331.1208791208791, 116.48571428571428, 'gini = 0.0\\nsamples = 3\\nvalue = [3, 0]'),\n",
       " Text(323.3027472527473, 178.61142857142858, 'X[5] <= 30.7\\ngini = 0.444\\nsamples = 6\\nvalue = [4, 2]'),\n",
       " Text(319.6236263736264, 163.07999999999998, 'gini = 0.0\\nsamples = 4\\nvalue = [4, 0]'),\n",
       " Text(326.98186813186817, 163.07999999999998, 'gini = 0.0\\nsamples = 2\\nvalue = [0, 2]')]"
      ]
     },
     "execution_count": 14,
     "metadata": {},
     "output_type": "execute_result"
    },
    {
     "data": {
      "image/png": "[encoded data removed]",
      "text/plain": [
       "<Figure size 432x288 with 1 Axes>"
      ]
     },
     "metadata": {
      "needs_background": "light"
     },
     "output_type": "display_data"
    }
   ],
   "source": [
    "from sklearn import tree\n",
    "tree.plot_tree(clf)"
   ]
  },
  {
   "cell_type": "code",
   "execution_count": null,
   "id": "8c55aa5d",
   "metadata": {},
   "outputs": [],
   "source": []
  }
 ],
 "metadata": {
  "kernelspec": {
   "display_name": "Python 3",
   "language": "python",
   "name": "python3"
  },
  "language_info": {
   "codemirror_mode": {
    "name": "ipython",
    "version": 3
   },
   "file_extension": ".py",
   "mimetype": "text/x-python",
   "name": "python",
   "nbconvert_exporter": "python",
   "pygments_lexer": "ipython3",
   "version": "3.6.5"
  }
 },
 "nbformat": 4,
 "nbformat_minor": 5
}
