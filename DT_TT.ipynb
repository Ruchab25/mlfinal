{
 "cells": [
  {
   "cell_type": "code",
   "execution_count": 1,
   "id": "10e94c11",
   "metadata": {},
   "outputs": [],
   "source": [
    "import pandas as pd\n",
    "import numpy as np\n",
    "import matplotlib.pyplot as plt\n",
    "import seaborn as sns\n",
    "%matplotlib inline\n",
    "from sklearn.tree import DecisionTreeClassifier\n",
    "import sklearn.tree as tree\n",
    "import sys"
   ]
  },
  {
   "cell_type": "code",
   "execution_count": 2,
   "id": "1bed6750",
   "metadata": {},
   "outputs": [],
   "source": [
    "data = pd.read_csv(\"E:/BeTech 3rd year/sem2/ML/titanic_train.csv\")"
   ]
  },
  {
   "cell_type": "code",
   "execution_count": 3,
   "id": "469de4c2",
   "metadata": {},
   "outputs": [
    {
     "name": "stdout",
     "output_type": "stream",
     "text": [
      "(891, 12)\n",
      "   PassengerId  Survived  Pclass  \\\n",
      "0            1         0       3   \n",
      "1            2         1       1   \n",
      "2            3         1       3   \n",
      "3            4         1       1   \n",
      "4            5         0       3   \n",
      "\n",
      "                                                Name     Sex   Age  SibSp  \\\n",
      "0                            Braund, Mr. Owen Harris    male  22.0      1   \n",
      "1  Cumings, Mrs. John Bradley (Florence Briggs Th...  female  38.0      1   \n",
      "2                             Heikkinen, Miss. Laina  female  26.0      0   \n",
      "3       Futrelle, Mrs. Jacques Heath (Lily May Peel)  female  35.0      1   \n",
      "4                           Allen, Mr. William Henry    male  35.0      0   \n",
      "\n",
      "   Parch            Ticket     Fare Cabin Embarked  \n",
      "0      0         A/5 21171   7.2500   NaN        S  \n",
      "1      0          PC 17599  71.2833   C85        C  \n",
      "2      0  STON/O2. 3101282   7.9250   NaN        S  \n",
      "3      0            113803  53.1000  C123        S  \n",
      "4      0            373450   8.0500   NaN        S  \n",
      "Index(['PassengerId', 'Survived', 'Pclass', 'Name', 'Sex', 'Age', 'SibSp',\n",
      "       'Parch', 'Ticket', 'Fare', 'Cabin', 'Embarked'],\n",
      "      dtype='object')\n"
     ]
    }
   ],
   "source": [
    "print(data.shape)\n",
    "print(data.head())\n",
    "print(data.columns)"
   ]
  },
  {
   "cell_type": "code",
   "execution_count": 4,
   "id": "017b9e01",
   "metadata": {},
   "outputs": [
    {
     "name": "stdout",
     "output_type": "stream",
     "text": [
      "       PassengerId    Survived      Pclass         Age       SibSp  \\\n",
      "count   891.000000  891.000000  891.000000  714.000000  891.000000   \n",
      "mean    446.000000    0.383838    2.308642   29.699118    0.523008   \n",
      "std     257.353842    0.486592    0.836071   14.526497    1.102743   \n",
      "min       1.000000    0.000000    1.000000    0.420000    0.000000   \n",
      "25%     223.500000    0.000000    2.000000   20.125000    0.000000   \n",
      "50%     446.000000    0.000000    3.000000   28.000000    0.000000   \n",
      "75%     668.500000    1.000000    3.000000   38.000000    1.000000   \n",
      "max     891.000000    1.000000    3.000000   80.000000    8.000000   \n",
      "\n",
      "            Parch        Fare  \n",
      "count  891.000000  891.000000  \n",
      "mean     0.381594   32.204208  \n",
      "std      0.806057   49.693429  \n",
      "min      0.000000    0.000000  \n",
      "25%      0.000000    7.910400  \n",
      "50%      0.000000   14.454200  \n",
      "75%      0.000000   31.000000  \n",
      "max      6.000000  512.329200  \n"
     ]
    }
   ],
   "source": [
    "print(data.describe())"
   ]
  },
  {
   "cell_type": "code",
   "execution_count": 5,
   "id": "88d0efc2",
   "metadata": {},
   "outputs": [
    {
     "name": "stdout",
     "output_type": "stream",
     "text": [
      "<class 'pandas.core.frame.DataFrame'>\n",
      "RangeIndex: 891 entries, 0 to 890\n",
      "Data columns (total 12 columns):\n",
      " #   Column       Non-Null Count  Dtype  \n",
      "---  ------       --------------  -----  \n",
      " 0   PassengerId  891 non-null    int64  \n",
      " 1   Survived     891 non-null    int64  \n",
      " 2   Pclass       891 non-null    int64  \n",
      " 3   Name         891 non-null    object \n",
      " 4   Sex          891 non-null    object \n",
      " 5   Age          714 non-null    float64\n",
      " 6   SibSp        891 non-null    int64  \n",
      " 7   Parch        891 non-null    int64  \n",
      " 8   Ticket       891 non-null    object \n",
      " 9   Fare         891 non-null    float64\n",
      " 10  Cabin        204 non-null    object \n",
      " 11  Embarked     889 non-null    object \n",
      "dtypes: float64(2), int64(5), object(5)\n",
      "memory usage: 66.2+ KB\n"
     ]
    }
   ],
   "source": [
    "data.info()\n"
   ]
  },
  {
   "cell_type": "code",
   "execution_count": 6,
   "id": "66da95c7",
   "metadata": {},
   "outputs": [],
   "source": [
    "data = data.drop(columns='Cabin', axis=1)"
   ]
  },
  {
   "cell_type": "code",
   "execution_count": 7,
   "id": "e60b4aea",
   "metadata": {},
   "outputs": [],
   "source": [
    "# replacing the missing values in \"Age\" column with mean value\n",
    "data['Age'].fillna(data['Age'].mean(), inplace=True)"
   ]
  },
  {
   "cell_type": "code",
   "execution_count": 8,
   "id": "dc64f577",
   "metadata": {},
   "outputs": [
    {
     "name": "stdout",
     "output_type": "stream",
     "text": [
      "0    S\n",
      "dtype: object\n"
     ]
    }
   ],
   "source": [
    "# finding the mode value of \"Embarked\" column\n",
    "print(data['Embarked'].mode())"
   ]
  },
  {
   "cell_type": "code",
   "execution_count": 9,
   "id": "4d4f6542",
   "metadata": {},
   "outputs": [
    {
     "name": "stdout",
     "output_type": "stream",
     "text": [
      "S\n"
     ]
    }
   ],
   "source": [
    "print(data['Embarked'].mode()[0])"
   ]
  },
  {
   "cell_type": "code",
   "execution_count": 10,
   "id": "826ec427",
   "metadata": {},
   "outputs": [],
   "source": [
    "# replacing the missing values in \"Embarked\" column with mode value\n",
    "data['Embarked'].fillna(data['Embarked'].mode()[0], inplace=True)"
   ]
  },
  {
   "cell_type": "code",
   "execution_count": 11,
   "id": "6c49481b",
   "metadata": {},
   "outputs": [
    {
     "data": {
      "text/plain": [
       "PassengerId    0\n",
       "Survived       0\n",
       "Pclass         0\n",
       "Name           0\n",
       "Sex            0\n",
       "Age            0\n",
       "SibSp          0\n",
       "Parch          0\n",
       "Ticket         0\n",
       "Fare           0\n",
       "Embarked       0\n",
       "dtype: int64"
      ]
     },
     "execution_count": 11,
     "metadata": {},
     "output_type": "execute_result"
    }
   ],
   "source": [
    "data.isnull().sum()"
   ]
  },
  {
   "cell_type": "code",
   "execution_count": 12,
   "id": "9129ec05",
   "metadata": {},
   "outputs": [],
   "source": [
    "sns.set()"
   ]
  },
  {
   "cell_type": "code",
   "execution_count": 13,
   "id": "8038e56d",
   "metadata": {},
   "outputs": [
    {
     "data": {
      "text/plain": [
       "<AxesSubplot:xlabel='Survived', ylabel='count'>"
      ]
     },
     "execution_count": 13,
     "metadata": {},
     "output_type": "execute_result"
    },
    {
     "data": {
      "image/png": "[encoded data removed]",
      "text/plain": [
       "<Figure size 432x288 with 1 Axes>"
      ]
     },
     "metadata": {},
     "output_type": "display_data"
    }
   ],
   "source": [
    "# making a count plot for \"Survived\" column\n",
    "sns.countplot(x= 'Survived', data=data)"
   ]
  },
  {
   "cell_type": "code",
   "execution_count": 14,
   "id": "b290b34c",
   "metadata": {},
   "outputs": [
    {
     "data": {
      "text/plain": [
       "male      577\n",
       "female    314\n",
       "Name: Sex, dtype: int64"
      ]
     },
     "execution_count": 14,
     "metadata": {},
     "output_type": "execute_result"
    }
   ],
   "source": [
    "data['Sex'].value_counts()"
   ]
  },
  {
   "cell_type": "code",
   "execution_count": 15,
   "id": "9a480f02",
   "metadata": {},
   "outputs": [
    {
     "data": {
      "text/plain": [
       "<AxesSubplot:xlabel='Sex', ylabel='count'>"
      ]
     },
     "execution_count": 15,
     "metadata": {},
     "output_type": "execute_result"
    },
    {
     "data": {
      "image/png": "[encoded data removed]",
      "text/plain": [
       "<Figure size 432x288 with 1 Axes>"
      ]
     },
     "metadata": {},
     "output_type": "display_data"
    }
   ],
   "source": [
    "sns.countplot(x = 'Sex', data=data)"
   ]
  },
  {
   "cell_type": "code",
   "execution_count": 16,
   "id": "71685be6",
   "metadata": {},
   "outputs": [
    {
     "data": {
      "text/plain": [
       "<AxesSubplot:xlabel='Sex', ylabel='count'>"
      ]
     },
     "execution_count": 16,
     "metadata": {},
     "output_type": "execute_result"
    },
    {
     "data": {
      "image/png": "[encoded data removed]",
      "text/plain": [
       "<Figure size 432x288 with 1 Axes>"
      ]
     },
     "metadata": {},
     "output_type": "display_data"
    }
   ],
   "source": [
    "# number of survivors Gender wise\n",
    "sns.countplot(x= 'Sex', hue='Survived', data=data)"
   ]
  },
  {
   "cell_type": "code",
   "execution_count": 19,
   "id": "2ce254d4",
   "metadata": {},
   "outputs": [],
   "source": [
    "# converting categorical Columns\n",
    "\n",
    "data.replace({'Sex':{'male':0,'female':1}, 'Embarked':{'S':0,'C':1,'Q':2}}, inplace=True)"
   ]
  },
  {
   "cell_type": "code",
   "execution_count": 27,
   "id": "2dbbc3db",
   "metadata": {},
   "outputs": [],
   "source": [
    "X = data.drop(columns = ['PassengerId','Name','Ticket','Survived'],axis=1)\n",
    "y = data['Survived']"
   ]
  },
  {
   "cell_type": "code",
   "execution_count": 28,
   "id": "ed284d46",
   "metadata": {},
   "outputs": [
    {
     "data": {
      "text/html": [
       "<div>\n",
       "<style scoped>\n",
       "    .dataframe tbody tr th:only-of-type {\n",
       "        vertical-align: middle;\n",
       "    }\n",
       "\n",
       "    .dataframe tbody tr th {\n",
       "        vertical-align: top;\n",
       "    }\n",
       "\n",
       "    .dataframe thead th {\n",
       "        text-align: right;\n",
       "    }\n",
       "</style>\n",
       "<table border=\"1\" class=\"dataframe\">\n",
       "  <thead>\n",
       "    <tr style=\"text-align: right;\">\n",
       "      <th></th>\n",
       "      <th>PassengerId</th>\n",
       "      <th>Survived</th>\n",
       "      <th>Pclass</th>\n",
       "      <th>Name</th>\n",
       "      <th>Sex</th>\n",
       "      <th>Age</th>\n",
       "      <th>SibSp</th>\n",
       "      <th>Parch</th>\n",
       "      <th>Ticket</th>\n",
       "      <th>Fare</th>\n",
       "      <th>Embarked</th>\n",
       "    </tr>\n",
       "  </thead>\n",
       "  <tbody>\n",
       "    <tr>\n",
       "      <th>0</th>\n",
       "      <td>1</td>\n",
       "      <td>0</td>\n",
       "      <td>3</td>\n",
       "      <td>Braund, Mr. Owen Harris</td>\n",
       "      <td>0</td>\n",
       "      <td>22.0</td>\n",
       "      <td>1</td>\n",
       "      <td>0</td>\n",
       "      <td>A/5 21171</td>\n",
       "      <td>7.2500</td>\n",
       "      <td>0</td>\n",
       "    </tr>\n",
       "    <tr>\n",
       "      <th>1</th>\n",
       "      <td>2</td>\n",
       "      <td>1</td>\n",
       "      <td>1</td>\n",
       "      <td>Cumings, Mrs. John Bradley (Florence Briggs Th...</td>\n",
       "      <td>1</td>\n",
       "      <td>38.0</td>\n",
       "      <td>1</td>\n",
       "      <td>0</td>\n",
       "      <td>PC 17599</td>\n",
       "      <td>71.2833</td>\n",
       "      <td>1</td>\n",
       "    </tr>\n",
       "    <tr>\n",
       "      <th>2</th>\n",
       "      <td>3</td>\n",
       "      <td>1</td>\n",
       "      <td>3</td>\n",
       "      <td>Heikkinen, Miss. Laina</td>\n",
       "      <td>1</td>\n",
       "      <td>26.0</td>\n",
       "      <td>0</td>\n",
       "      <td>0</td>\n",
       "      <td>STON/O2. 3101282</td>\n",
       "      <td>7.9250</td>\n",
       "      <td>0</td>\n",
       "    </tr>\n",
       "    <tr>\n",
       "      <th>3</th>\n",
       "      <td>4</td>\n",
       "      <td>1</td>\n",
       "      <td>1</td>\n",
       "      <td>Futrelle, Mrs. Jacques Heath (Lily May Peel)</td>\n",
       "      <td>1</td>\n",
       "      <td>35.0</td>\n",
       "      <td>1</td>\n",
       "      <td>0</td>\n",
       "      <td>113803</td>\n",
       "      <td>53.1000</td>\n",
       "      <td>0</td>\n",
       "    </tr>\n",
       "    <tr>\n",
       "      <th>4</th>\n",
       "      <td>5</td>\n",
       "      <td>0</td>\n",
       "      <td>3</td>\n",
       "      <td>Allen, Mr. William Henry</td>\n",
       "      <td>0</td>\n",
       "      <td>35.0</td>\n",
       "      <td>0</td>\n",
       "      <td>0</td>\n",
       "      <td>373450</td>\n",
       "      <td>8.0500</td>\n",
       "      <td>0</td>\n",
       "    </tr>\n",
       "  </tbody>\n",
       "</table>\n",
       "</div>"
      ],
      "text/plain": [
       "   PassengerId  Survived  Pclass  \\\n",
       "0            1         0       3   \n",
       "1            2         1       1   \n",
       "2            3         1       3   \n",
       "3            4         1       1   \n",
       "4            5         0       3   \n",
       "\n",
       "                                                Name  Sex   Age  SibSp  Parch  \\\n",
       "0                            Braund, Mr. Owen Harris    0  22.0      1      0   \n",
       "1  Cumings, Mrs. John Bradley (Florence Briggs Th...    1  38.0      1      0   \n",
       "2                             Heikkinen, Miss. Laina    1  26.0      0      0   \n",
       "3       Futrelle, Mrs. Jacques Heath (Lily May Peel)    1  35.0      1      0   \n",
       "4                           Allen, Mr. William Henry    0  35.0      0      0   \n",
       "\n",
       "             Ticket     Fare  Embarked  \n",
       "0         A/5 21171   7.2500         0  \n",
       "1          PC 17599  71.2833         1  \n",
       "2  STON/O2. 3101282   7.9250         0  \n",
       "3            113803  53.1000         0  \n",
       "4            373450   8.0500         0  "
      ]
     },
     "execution_count": 28,
     "metadata": {},
     "output_type": "execute_result"
    }
   ],
   "source": [
    "data.head()"
   ]
  },
  {
   "cell_type": "code",
   "execution_count": 29,
   "id": "816a820b",
   "metadata": {},
   "outputs": [
    {
     "name": "stdout",
     "output_type": "stream",
     "text": [
      "     Pclass  Sex        Age  SibSp  Parch     Fare  Embarked\n",
      "0         3    0  22.000000      1      0   7.2500         0\n",
      "1         1    1  38.000000      1      0  71.2833         1\n",
      "2         3    1  26.000000      0      0   7.9250         0\n",
      "3         1    1  35.000000      1      0  53.1000         0\n",
      "4         3    0  35.000000      0      0   8.0500         0\n",
      "..      ...  ...        ...    ...    ...      ...       ...\n",
      "886       2    0  27.000000      0      0  13.0000         0\n",
      "887       1    1  19.000000      0      0  30.0000         0\n",
      "888       3    1  29.699118      1      2  23.4500         0\n",
      "889       1    0  26.000000      0      0  30.0000         1\n",
      "890       3    0  32.000000      0      0   7.7500         2\n",
      "\n",
      "[891 rows x 7 columns]\n"
     ]
    }
   ],
   "source": [
    "print(X)"
   ]
  },
  {
   "cell_type": "code",
   "execution_count": 30,
   "id": "2c3848dc",
   "metadata": {},
   "outputs": [
    {
     "name": "stdout",
     "output_type": "stream",
     "text": [
      "0      0\n",
      "1      1\n",
      "2      1\n",
      "3      1\n",
      "4      0\n",
      "      ..\n",
      "886    0\n",
      "887    1\n",
      "888    0\n",
      "889    1\n",
      "890    0\n",
      "Name: Survived, Length: 891, dtype: int64\n"
     ]
    }
   ],
   "source": [
    "print(Y)"
   ]
  },
  {
   "cell_type": "code",
   "execution_count": 31,
   "id": "12fffe0a",
   "metadata": {},
   "outputs": [],
   "source": [
    "from sklearn.model_selection import train_test_split"
   ]
  },
  {
   "cell_type": "code",
   "execution_count": 32,
   "id": "a3c5af5a",
   "metadata": {},
   "outputs": [],
   "source": [
    "X_trainset, X_testset, y_trainset, y_testset = train_test_split(X, y, test_size=0.2, random_state=2)"
   ]
  },
  {
   "cell_type": "code",
   "execution_count": 33,
   "id": "cdf2df26",
   "metadata": {},
   "outputs": [
    {
     "data": {
      "text/plain": [
       "DecisionTreeClassifier(criterion='entropy', max_depth=4)"
      ]
     },
     "execution_count": 33,
     "metadata": {},
     "output_type": "execute_result"
    }
   ],
   "source": [
    "drugTree = DecisionTreeClassifier(criterion=\"entropy\", max_depth = 4)\n",
    "drugTree # it shows the default parameters"
   ]
  },
  {
   "cell_type": "code",
   "execution_count": 34,
   "id": "537a756d",
   "metadata": {},
   "outputs": [
    {
     "data": {
      "text/plain": [
       "DecisionTreeClassifier(criterion='entropy', max_depth=4)"
      ]
     },
     "execution_count": 34,
     "metadata": {},
     "output_type": "execute_result"
    }
   ],
   "source": [
    "drugTree.fit(X_trainset,y_trainset)"
   ]
  },
  {
   "cell_type": "code",
   "execution_count": 35,
   "id": "7fe15966",
   "metadata": {},
   "outputs": [],
   "source": [
    "predTree = drugTree.predict(X_testset)"
   ]
  },
  {
   "cell_type": "code",
   "execution_count": 36,
   "id": "4f4786e4",
   "metadata": {},
   "outputs": [
    {
     "name": "stdout",
     "output_type": "stream",
     "text": [
      "Accuracy: 0.9823434991974318\n",
      "Accuracy: 0.7649253731343284\n",
      "0.7897337429595493\n"
     ]
    }
   ],
   "source": [
    "from sklearn.tree import DecisionTreeClassifier\n",
    "from sklearn.model_selection import cross_val_score\n",
    "from sklearn.model_selection import train_test_split\n",
    "from sklearn import metrics\n",
    "\n",
    "x_train, x_test, y_train, y_test = train_test_split(X, Y, test_size= 0.3)\n",
    "\n",
    "clf = DecisionTreeClassifier()\n",
    "clf = clf.fit(x_train, y_train)\n",
    "y_pred = clf.predict(x_test)\n",
    "Y_train_pred = clf.predict(x_train)\n",
    "print(\"Accuracy:\",metrics.accuracy_score(y_train, Y_train_pred))#training accuracy\n",
    "print(\"Accuracy:\",metrics.accuracy_score(y_test, y_pred))#testing accuracy\n",
    "\n",
    "clf1 = DecisionTreeClassifier()\n",
    "print(cross_val_score(clf1, x_train, y_train, cv=10, scoring='accuracy').mean())"
   ]
  },
  {
   "cell_type": "code",
   "execution_count": 37,
   "id": "12154bc2",
   "metadata": {},
   "outputs": [
    {
     "data": {
      "text/plain": [
       "[Text(165.5482300884956, 211.04470588235293, 'X[1] <= 0.5\\ngini = 0.482\\nsamples = 623\\nvalue = [370, 253]'),\n",
       " Text(64.44159292035398, 198.25411764705882, 'X[0] <= 1.5\\ngini = 0.311\\nsamples = 389\\nvalue = [314, 75]'),\n",
       " Text(28.146902654867258, 185.4635294117647, 'X[2] <= 53.0\\ngini = 0.482\\nsamples = 84\\nvalue = [50, 34]'),\n",
       " Text(17.776991150442477, 172.6729411764706, 'X[5] <= 26.144\\ngini = 0.498\\nsamples = 68\\nvalue = [36, 32]'),\n",
       " Text(14.814159292035399, 159.88235294117646, 'gini = 0.0\\nsamples = 6\\nvalue = [6, 0]'),\n",
       " Text(20.73982300884956, 159.88235294117646, 'X[5] <= 30.598\\ngini = 0.499\\nsamples = 62\\nvalue = [30, 32]'),\n",
       " Text(14.814159292035399, 147.09176470588235, 'X[2] <= 32.35\\ngini = 0.291\\nsamples = 17\\nvalue = [3, 14]'),\n",
       " Text(11.851327433628319, 134.30117647058825, 'X[5] <= 28.71\\ngini = 0.444\\nsamples = 9\\nvalue = [3, 6]'),\n",
       " Text(8.888495575221238, 121.51058823529411, 'X[6] <= 0.5\\ngini = 0.48\\nsamples = 5\\nvalue = [3, 2]'),\n",
       " Text(5.925663716814159, 108.72, 'X[2] <= 28.85\\ngini = 0.444\\nsamples = 3\\nvalue = [1, 2]'),\n",
       " Text(2.9628318584070796, 95.92941176470588, 'gini = 0.0\\nsamples = 1\\nvalue = [0, 1]'),\n",
       " Text(8.888495575221238, 95.92941176470588, 'gini = 0.5\\nsamples = 2\\nvalue = [1, 1]'),\n",
       " Text(11.851327433628319, 108.72, 'gini = 0.0\\nsamples = 2\\nvalue = [2, 0]'),\n",
       " Text(14.814159292035399, 121.51058823529411, 'gini = 0.0\\nsamples = 4\\nvalue = [0, 4]'),\n",
       " Text(17.776991150442477, 134.30117647058825, 'gini = 0.0\\nsamples = 8\\nvalue = [0, 8]'),\n",
       " Text(26.665486725663715, 147.09176470588235, 'X[2] <= 17.5\\ngini = 0.48\\nsamples = 45\\nvalue = [27, 18]'),\n",
       " Text(23.702654867256637, 134.30117647058825, 'gini = 0.0\\nsamples = 4\\nvalue = [0, 4]'),\n",
       " Text(29.628318584070797, 134.30117647058825, 'X[2] <= 24.5\\ngini = 0.45\\nsamples = 41\\nvalue = [27, 14]'),\n",
       " Text(26.665486725663715, 121.51058823529411, 'gini = 0.0\\nsamples = 5\\nvalue = [5, 0]'),\n",
       " Text(32.591150442477876, 121.51058823529411, 'X[2] <= 26.0\\ngini = 0.475\\nsamples = 36\\nvalue = [22, 14]'),\n",
       " Text(29.628318584070797, 108.72, 'gini = 0.0\\nsamples = 2\\nvalue = [0, 2]'),\n",
       " Text(35.553982300884954, 108.72, 'X[5] <= 85.638\\ngini = 0.457\\nsamples = 34\\nvalue = [22, 12]'),\n",
       " Text(28.146902654867258, 95.92941176470588, 'X[2] <= 27.5\\ngini = 0.403\\nsamples = 25\\nvalue = [18, 7]'),\n",
       " Text(25.184070796460176, 83.13882352941175, 'gini = 0.0\\nsamples = 1\\nvalue = [0, 1]'),\n",
       " Text(31.109734513274336, 83.13882352941175, 'X[5] <= 37.0\\ngini = 0.375\\nsamples = 24\\nvalue = [18, 6]'),\n",
       " Text(25.184070796460176, 70.34823529411764, 'X[2] <= 42.5\\ngini = 0.5\\nsamples = 6\\nvalue = [3, 3]'),\n",
       " Text(22.221238938053098, 57.557647058823534, 'X[5] <= 30.848\\ngini = 0.375\\nsamples = 4\\nvalue = [1, 3]'),\n",
       " Text(19.258407079646016, 44.767058823529396, 'gini = 0.0\\nsamples = 1\\nvalue = [1, 0]'),\n",
       " Text(25.184070796460176, 44.767058823529396, 'gini = 0.0\\nsamples = 3\\nvalue = [0, 3]'),\n",
       " Text(28.146902654867258, 57.557647058823534, 'gini = 0.0\\nsamples = 2\\nvalue = [2, 0]'),\n",
       " Text(37.0353982300885, 70.34823529411764, 'X[2] <= 39.5\\ngini = 0.278\\nsamples = 18\\nvalue = [15, 3]'),\n",
       " Text(34.07256637168142, 57.557647058823534, 'gini = 0.0\\nsamples = 10\\nvalue = [10, 0]'),\n",
       " Text(39.998230088495575, 57.557647058823534, 'X[5] <= 59.052\\ngini = 0.469\\nsamples = 8\\nvalue = [5, 3]'),\n",
       " Text(37.0353982300885, 44.767058823529396, 'X[5] <= 52.277\\ngini = 0.48\\nsamples = 5\\nvalue = [2, 3]'),\n",
       " Text(34.07256637168142, 31.976470588235287, 'X[2] <= 47.5\\ngini = 0.444\\nsamples = 3\\nvalue = [2, 1]'),\n",
       " Text(31.109734513274336, 19.185882352941178, 'gini = 0.0\\nsamples = 2\\nvalue = [2, 0]'),\n",
       " Text(37.0353982300885, 19.185882352941178, 'gini = 0.0\\nsamples = 1\\nvalue = [0, 1]'),\n",
       " Text(39.998230088495575, 31.976470588235287, 'gini = 0.0\\nsamples = 2\\nvalue = [0, 2]'),\n",
       " Text(42.96106194690265, 44.767058823529396, 'gini = 0.0\\nsamples = 3\\nvalue = [3, 0]'),\n",
       " Text(42.96106194690265, 95.92941176470588, 'X[2] <= 32.35\\ngini = 0.494\\nsamples = 9\\nvalue = [4, 5]'),\n",
       " Text(39.998230088495575, 83.13882352941175, 'gini = 0.0\\nsamples = 2\\nvalue = [2, 0]'),\n",
       " Text(45.92389380530973, 83.13882352941175, 'X[4] <= 0.5\\ngini = 0.408\\nsamples = 7\\nvalue = [2, 5]'),\n",
       " Text(42.96106194690265, 70.34823529411764, 'gini = 0.0\\nsamples = 4\\nvalue = [0, 4]'),\n",
       " Text(48.88672566371682, 70.34823529411764, 'X[4] <= 1.5\\ngini = 0.444\\nsamples = 3\\nvalue = [2, 1]'),\n",
       " Text(45.92389380530973, 57.557647058823534, 'gini = 0.0\\nsamples = 2\\nvalue = [2, 0]'),\n",
       " Text(51.849557522123895, 57.557647058823534, 'gini = 0.0\\nsamples = 1\\nvalue = [0, 1]'),\n",
       " Text(38.51681415929203, 172.6729411764706, 'X[6] <= 0.5\\ngini = 0.219\\nsamples = 16\\nvalue = [14, 2]'),\n",
       " Text(35.553982300884954, 159.88235294117646, 'gini = 0.0\\nsamples = 11\\nvalue = [11, 0]'),\n",
       " Text(41.47964601769912, 159.88235294117646, 'X[2] <= 62.5\\ngini = 0.48\\nsamples = 5\\nvalue = [3, 2]'),\n",
       " Text(38.51681415929203, 147.09176470588235, 'X[4] <= 1.5\\ngini = 0.444\\nsamples = 3\\nvalue = [1, 2]'),\n",
       " Text(35.553982300884954, 134.30117647058825, 'gini = 0.0\\nsamples = 2\\nvalue = [0, 2]'),\n",
       " Text(41.47964601769912, 134.30117647058825, 'gini = 0.0\\nsamples = 1\\nvalue = [1, 0]'),\n",
       " Text(44.442477876106196, 147.09176470588235, 'gini = 0.0\\nsamples = 2\\nvalue = [2, 0]'),\n",
       " Text(100.7362831858407, 185.4635294117647, 'X[2] <= 13.0\\ngini = 0.233\\nsamples = 305\\nvalue = [264, 41]'),\n",
       " Text(74.070796460177, 172.6729411764706, 'X[3] <= 2.5\\ngini = 0.497\\nsamples = 24\\nvalue = [11, 13]'),\n",
       " Text(71.10796460176991, 159.88235294117646, 'X[4] <= 0.5\\ngini = 0.133\\nsamples = 14\\nvalue = [1, 13]'),\n",
       " Text(68.14513274336284, 147.09176470588235, 'X[3] <= 0.5\\ngini = 0.5\\nsamples = 2\\nvalue = [1, 1]'),\n",
       " Text(65.18230088495575, 134.30117647058825, 'gini = 0.0\\nsamples = 1\\nvalue = [1, 0]'),\n",
       " Text(71.10796460176991, 134.30117647058825, 'gini = 0.0\\nsamples = 1\\nvalue = [0, 1]'),\n",
       " Text(74.070796460177, 147.09176470588235, 'gini = 0.0\\nsamples = 12\\nvalue = [0, 12]'),\n",
       " Text(77.03362831858406, 159.88235294117646, 'gini = 0.0\\nsamples = 10\\nvalue = [10, 0]'),\n",
       " Text(127.40176991150443, 172.6729411764706, 'X[5] <= 7.175\\ngini = 0.179\\nsamples = 281\\nvalue = [253, 28]'),\n",
       " Text(124.43893805309735, 159.88235294117646, 'gini = 0.0\\nsamples = 27\\nvalue = [27, 0]'),\n",
       " Text(130.3646017699115, 159.88235294117646, 'X[2] <= 28.75\\ngini = 0.196\\nsamples = 254\\nvalue = [226, 28]'),\n",
       " Text(88.14424778761062, 147.09176470588235, 'X[6] <= 0.5\\ngini = 0.124\\nsamples = 105\\nvalue = [98, 7]'),\n",
       " Text(77.03362831858406, 134.30117647058825, 'X[2] <= 20.25\\ngini = 0.082\\nsamples = 93\\nvalue = [89, 4]'),\n",
       " Text(69.62654867256637, 121.51058823529411, 'X[5] <= 11.0\\ngini = 0.17\\nsamples = 32\\nvalue = [29, 3]'),\n",
       " Text(66.66371681415929, 108.72, 'X[0] <= 2.5\\ngini = 0.245\\nsamples = 21\\nvalue = [18, 3]'),\n",
       " Text(63.700884955752215, 95.92941176470588, 'gini = 0.0\\nsamples = 1\\nvalue = [0, 1]'),\n",
       " Text(69.62654867256637, 95.92941176470588, 'X[3] <= 0.5\\ngini = 0.18\\nsamples = 20\\nvalue = [18, 2]'),\n",
       " Text(63.700884955752215, 83.13882352941175, 'X[2] <= 16.5\\ngini = 0.105\\nsamples = 18\\nvalue = [17, 1]'),\n",
       " Text(60.73805309734513, 70.34823529411764, 'X[5] <= 8.775\\ngini = 0.444\\nsamples = 3\\nvalue = [2, 1]'),\n",
       " Text(57.77522123893805, 57.557647058823534, 'gini = 0.5\\nsamples = 2\\nvalue = [1, 1]'),\n",
       " Text(63.700884955752215, 57.557647058823534, 'gini = 0.0\\nsamples = 1\\nvalue = [1, 0]'),\n",
       " Text(66.66371681415929, 70.34823529411764, 'gini = 0.0\\nsamples = 15\\nvalue = [15, 0]'),\n",
       " Text(75.55221238938053, 83.13882352941175, 'X[5] <= 7.89\\ngini = 0.5\\nsamples = 2\\nvalue = [1, 1]'),\n",
       " Text(72.58938053097346, 70.34823529411764, 'gini = 0.0\\nsamples = 1\\nvalue = [1, 0]'),\n",
       " Text(78.51504424778761, 70.34823529411764, 'gini = 0.0\\nsamples = 1\\nvalue = [0, 1]'),\n",
       " Text(72.58938053097346, 108.72, 'gini = 0.0\\nsamples = 11\\nvalue = [11, 0]'),\n",
       " Text(84.44070796460177, 121.51058823529411, 'X[5] <= 7.785\\ngini = 0.032\\nsamples = 61\\nvalue = [60, 1]'),\n",
       " Text(81.47787610619469, 108.72, 'X[3] <= 0.5\\ngini = 0.198\\nsamples = 9\\nvalue = [8, 1]'),\n",
       " Text(78.51504424778761, 95.92941176470588, 'gini = 0.0\\nsamples = 6\\nvalue = [6, 0]'),\n",
       " Text(84.44070796460177, 95.92941176470588, 'X[5] <= 7.513\\ngini = 0.444\\nsamples = 3\\nvalue = [2, 1]'),\n",
       " Text(81.47787610619469, 83.13882352941175, 'gini = 0.0\\nsamples = 1\\nvalue = [1, 0]'),\n",
       " Text(87.40353982300886, 83.13882352941175, 'gini = 0.5\\nsamples = 2\\nvalue = [1, 1]'),\n",
       " Text(87.40353982300886, 108.72, 'gini = 0.0\\nsamples = 52\\nvalue = [52, 0]'),\n",
       " Text(99.25486725663717, 134.30117647058825, 'X[3] <= 0.5\\ngini = 0.375\\nsamples = 12\\nvalue = [9, 3]'),\n",
       " Text(96.29203539823008, 121.51058823529411, 'X[2] <= 20.5\\ngini = 0.469\\nsamples = 8\\nvalue = [5, 3]'),\n",
       " Text(93.32920353982301, 108.72, 'gini = 0.0\\nsamples = 1\\nvalue = [0, 1]'),\n",
       " Text(99.25486725663717, 108.72, 'X[5] <= 13.265\\ngini = 0.408\\nsamples = 7\\nvalue = [5, 2]'),\n",
       " Text(96.29203539823008, 95.92941176470588, 'X[5] <= 7.227\\ngini = 0.278\\nsamples = 6\\nvalue = [5, 1]'),\n",
       " Text(93.32920353982301, 83.13882352941175, 'X[2] <= 23.5\\ngini = 0.5\\nsamples = 2\\nvalue = [1, 1]'),\n",
       " Text(90.36637168141593, 70.34823529411764, 'gini = 0.0\\nsamples = 1\\nvalue = [0, 1]'),\n",
       " Text(96.29203539823008, 70.34823529411764, 'gini = 0.0\\nsamples = 1\\nvalue = [1, 0]'),\n",
       " Text(99.25486725663717, 83.13882352941175, 'gini = 0.0\\nsamples = 4\\nvalue = [4, 0]'),\n",
       " Text(102.21769911504424, 95.92941176470588, 'gini = 0.0\\nsamples = 1\\nvalue = [0, 1]'),\n",
       " Text(102.21769911504424, 121.51058823529411, 'gini = 0.0\\nsamples = 4\\nvalue = [4, 0]'),\n",
       " Text(172.58495575221238, 147.09176470588235, 'X[2] <= 32.25\\ngini = 0.242\\nsamples = 149\\nvalue = [128, 21]'),\n",
       " Text(151.10442477876106, 134.30117647058825, 'X[2] <= 30.75\\ngini = 0.306\\nsamples = 85\\nvalue = [69, 16]'),\n",
       " Text(125.92035398230088, 121.51058823529411, 'X[2] <= 29.35\\ngini = 0.236\\nsamples = 73\\nvalue = [63, 10]'),\n",
       " Text(111.10619469026548, 108.72, 'X[6] <= 0.5\\ngini = 0.48\\nsamples = 5\\nvalue = [3, 2]'),\n",
       " Text(108.14336283185841, 95.92941176470588, 'gini = 0.0\\nsamples = 2\\nvalue = [2, 0]'),\n",
       " Text(114.06902654867257, 95.92941176470588, 'X[0] <= 2.5\\ngini = 0.444\\nsamples = 3\\nvalue = [1, 2]'),\n",
       " Text(111.10619469026548, 83.13882352941175, 'gini = 0.0\\nsamples = 1\\nvalue = [1, 0]'),\n",
       " Text(117.03185840707964, 83.13882352941175, 'gini = 0.0\\nsamples = 2\\nvalue = [0, 2]'),\n",
       " Text(140.73451327433628, 108.72, 'X[5] <= 8.081\\ngini = 0.208\\nsamples = 68\\nvalue = [60, 8]'),\n",
       " Text(125.92035398230088, 95.92941176470588, 'X[5] <= 7.79\\ngini = 0.089\\nsamples = 43\\nvalue = [41, 2]'),\n",
       " Text(122.95752212389381, 83.13882352941175, 'X[5] <= 7.227\\ngini = 0.153\\nsamples = 24\\nvalue = [22, 2]'),\n",
       " Text(119.99469026548672, 70.34823529411764, 'gini = 0.0\\nsamples = 4\\nvalue = [4, 0]'),\n",
       " Text(125.92035398230088, 70.34823529411764, 'X[5] <= 7.24\\ngini = 0.18\\nsamples = 20\\nvalue = [18, 2]'),\n",
       " Text(119.99469026548672, 57.557647058823534, 'X[2] <= 29.85\\ngini = 0.278\\nsamples = 6\\nvalue = [5, 1]'),\n",
       " Text(117.03185840707964, 44.767058823529396, 'gini = 0.32\\nsamples = 5\\nvalue = [4, 1]'),\n",
       " Text(122.95752212389381, 44.767058823529396, 'gini = 0.0\\nsamples = 1\\nvalue = [1, 0]'),\n",
       " Text(131.84601769911504, 57.557647058823534, 'X[5] <= 7.744\\ngini = 0.133\\nsamples = 14\\nvalue = [13, 1]'),\n",
       " Text(128.88318584070797, 44.767058823529396, 'gini = 0.0\\nsamples = 4\\nvalue = [4, 0]'),\n",
       " Text(134.80884955752214, 44.767058823529396, 'X[3] <= 0.5\\ngini = 0.18\\nsamples = 10\\nvalue = [9, 1]'),\n",
       " Text(131.84601769911504, 31.976470588235287, 'gini = 0.198\\nsamples = 9\\nvalue = [8, 1]'),\n",
       " Text(137.7716814159292, 31.976470588235287, 'gini = 0.0\\nsamples = 1\\nvalue = [1, 0]'),\n",
       " Text(128.88318584070797, 83.13882352941175, 'gini = 0.0\\nsamples = 19\\nvalue = [19, 0]'),\n",
       " Text(155.5486725663717, 95.92941176470588, 'X[5] <= 8.388\\ngini = 0.365\\nsamples = 25\\nvalue = [19, 6]'),\n",
       " Text(152.5858407079646, 83.13882352941175, 'gini = 0.0\\nsamples = 1\\nvalue = [0, 1]'),\n",
       " Text(158.51150442477876, 83.13882352941175, 'X[5] <= 15.373\\ngini = 0.33\\nsamples = 24\\nvalue = [19, 5]'),\n",
       " Text(152.5858407079646, 70.34823529411764, 'X[4] <= 0.5\\ngini = 0.444\\nsamples = 12\\nvalue = [8, 4]'),\n",
       " Text(149.62300884955752, 57.557647058823534, 'X[5] <= 14.16\\ngini = 0.32\\nsamples = 10\\nvalue = [8, 2]'),\n",
       " Text(146.66017699115045, 44.767058823529396, 'X[5] <= 13.431\\ngini = 0.408\\nsamples = 7\\nvalue = [5, 2]'),\n",
       " Text(143.69734513274335, 31.976470588235287, 'X[2] <= 29.85\\ngini = 0.278\\nsamples = 6\\nvalue = [5, 1]'),\n",
       " Text(140.73451327433628, 19.185882352941178, 'gini = 0.0\\nsamples = 3\\nvalue = [3, 0]'),\n",
       " Text(146.66017699115045, 19.185882352941178, 'X[0] <= 2.5\\ngini = 0.444\\nsamples = 3\\nvalue = [2, 1]'),\n",
       " Text(143.69734513274335, 6.39529411764704, 'gini = 0.0\\nsamples = 2\\nvalue = [2, 0]'),\n",
       " Text(149.62300884955752, 6.39529411764704, 'gini = 0.0\\nsamples = 1\\nvalue = [0, 1]'),\n",
       " Text(149.62300884955752, 31.976470588235287, 'gini = 0.0\\nsamples = 1\\nvalue = [0, 1]'),\n",
       " Text(152.5858407079646, 44.767058823529396, 'gini = 0.0\\nsamples = 3\\nvalue = [3, 0]'),\n",
       " Text(155.5486725663717, 57.557647058823534, 'gini = 0.0\\nsamples = 2\\nvalue = [0, 2]'),\n",
       " Text(164.4371681415929, 70.34823529411764, 'X[3] <= 0.5\\ngini = 0.153\\nsamples = 12\\nvalue = [11, 1]'),\n",
       " Text(161.47433628318583, 57.557647058823534, 'X[5] <= 35.998\\ngini = 0.444\\nsamples = 3\\nvalue = [2, 1]'),\n",
       " Text(158.51150442477876, 44.767058823529396, 'gini = 0.0\\nsamples = 1\\nvalue = [1, 0]'),\n",
       " Text(164.4371681415929, 44.767058823529396, 'gini = 0.5\\nsamples = 2\\nvalue = [1, 1]'),\n",
       " Text(167.4, 57.557647058823534, 'gini = 0.0\\nsamples = 9\\nvalue = [9, 0]'),\n",
       " Text(176.28849557522125, 121.51058823529411, 'X[5] <= 7.802\\ngini = 0.5\\nsamples = 12\\nvalue = [6, 6]'),\n",
       " Text(173.32566371681415, 108.72, 'gini = 0.0\\nsamples = 1\\nvalue = [1, 0]'),\n",
       " Text(179.25132743362832, 108.72, 'X[3] <= 1.5\\ngini = 0.496\\nsamples = 11\\nvalue = [5, 6]'),\n",
       " Text(176.28849557522125, 95.92941176470588, 'X[5] <= 20.925\\ngini = 0.48\\nsamples = 10\\nvalue = [4, 6]'),\n",
       " Text(173.32566371681415, 83.13882352941175, 'X[2] <= 31.5\\ngini = 0.5\\nsamples = 8\\nvalue = [4, 4]'),\n",
       " Text(170.36283185840708, 70.34823529411764, 'gini = 0.0\\nsamples = 1\\nvalue = [0, 1]'),\n",
       " Text(176.28849557522125, 70.34823529411764, 'X[5] <= 9.275\\ngini = 0.49\\nsamples = 7\\nvalue = [4, 3]'),\n",
       " Text(173.32566371681415, 57.557647058823534, 'X[5] <= 7.875\\ngini = 0.48\\nsamples = 5\\nvalue = [2, 3]'),\n",
       " Text(170.36283185840708, 44.767058823529396, 'gini = 0.0\\nsamples = 1\\nvalue = [0, 1]'),\n",
       " Text(176.28849557522125, 44.767058823529396, 'X[5] <= 7.91\\ngini = 0.5\\nsamples = 4\\nvalue = [2, 2]'),\n",
       " Text(173.32566371681415, 31.976470588235287, 'gini = 0.0\\nsamples = 1\\nvalue = [1, 0]'),\n",
       " Text(179.25132743362832, 31.976470588235287, 'X[5] <= 7.988\\ngini = 0.444\\nsamples = 3\\nvalue = [1, 2]'),\n",
       " Text(176.28849557522125, 19.185882352941178, 'gini = 0.5\\nsamples = 2\\nvalue = [1, 1]'),\n",
       " Text(182.2141592920354, 19.185882352941178, 'gini = 0.0\\nsamples = 1\\nvalue = [0, 1]'),\n",
       " Text(179.25132743362832, 57.557647058823534, 'gini = 0.0\\nsamples = 2\\nvalue = [2, 0]'),\n",
       " Text(179.25132743362832, 83.13882352941175, 'gini = 0.0\\nsamples = 2\\nvalue = [0, 2]'),\n",
       " Text(182.2141592920354, 95.92941176470588, 'gini = 0.0\\nsamples = 1\\nvalue = [1, 0]'),\n",
       " Text(194.0654867256637, 134.30117647058825, 'X[5] <= 13.5\\ngini = 0.144\\nsamples = 64\\nvalue = [59, 5]'),\n",
       " Text(191.10265486725663, 121.51058823529411, 'X[5] <= 7.91\\ngini = 0.201\\nsamples = 44\\nvalue = [39, 5]'),\n",
       " Text(188.13982300884956, 108.72, 'gini = 0.0\\nsamples = 12\\nvalue = [12, 0]'),\n",
       " Text(194.0654867256637, 108.72, 'X[5] <= 7.988\\ngini = 0.264\\nsamples = 32\\nvalue = [27, 5]'),\n",
       " Text(188.13982300884956, 95.92941176470588, 'X[3] <= 1.0\\ngini = 0.5\\nsamples = 4\\nvalue = [2, 2]'),\n",
       " Text(185.1769911504425, 83.13882352941175, 'X[2] <= 41.5\\ngini = 0.444\\nsamples = 3\\nvalue = [1, 2]'),\n",
       " Text(182.2141592920354, 70.34823529411764, 'gini = 0.5\\nsamples = 2\\nvalue = [1, 1]'),\n",
       " Text(188.13982300884956, 70.34823529411764, 'gini = 0.0\\nsamples = 1\\nvalue = [0, 1]'),\n",
       " Text(191.10265486725663, 83.13882352941175, 'gini = 0.0\\nsamples = 1\\nvalue = [1, 0]'),\n",
       " Text(199.99115044247787, 95.92941176470588, 'X[5] <= 10.0\\ngini = 0.191\\nsamples = 28\\nvalue = [25, 3]'),\n",
       " Text(197.0283185840708, 83.13882352941175, 'gini = 0.0\\nsamples = 11\\nvalue = [11, 0]'),\n",
       " Text(202.95398230088495, 83.13882352941175, 'X[2] <= 34.5\\ngini = 0.291\\nsamples = 17\\nvalue = [14, 3]'),\n",
       " Text(195.54690265486727, 70.34823529411764, 'X[2] <= 33.5\\ngini = 0.444\\nsamples = 3\\nvalue = [2, 1]'),\n",
       " Text(192.58407079646017, 57.557647058823534, 'gini = 0.0\\nsamples = 1\\nvalue = [1, 0]'),\n",
       " Text(198.50973451327434, 57.557647058823534, 'gini = 0.5\\nsamples = 2\\nvalue = [1, 1]'),\n",
       " Text(210.36106194690265, 70.34823529411764, 'X[2] <= 59.5\\ngini = 0.245\\nsamples = 14\\nvalue = [12, 2]'),\n",
       " Text(204.43539823008848, 57.557647058823534, 'X[2] <= 45.0\\ngini = 0.165\\nsamples = 11\\nvalue = [10, 1]'),\n",
       " Text(201.4725663716814, 44.767058823529396, 'X[2] <= 40.5\\ngini = 0.278\\nsamples = 6\\nvalue = [5, 1]'),\n",
       " Text(198.50973451327434, 31.976470588235287, 'gini = 0.0\\nsamples = 4\\nvalue = [4, 0]'),\n",
       " Text(204.43539823008848, 31.976470588235287, 'gini = 0.5\\nsamples = 2\\nvalue = [1, 1]'),\n",
       " Text(207.39823008849558, 44.767058823529396, 'gini = 0.0\\nsamples = 5\\nvalue = [5, 0]'),\n",
       " Text(216.28672566371682, 57.557647058823534, 'X[2] <= 64.0\\ngini = 0.444\\nsamples = 3\\nvalue = [2, 1]'),\n",
       " Text(213.32389380530972, 44.767058823529396, 'gini = 0.0\\nsamples = 1\\nvalue = [0, 1]'),\n",
       " Text(219.2495575221239, 44.767058823529396, 'gini = 0.0\\nsamples = 2\\nvalue = [2, 0]'),\n",
       " Text(197.0283185840708, 121.51058823529411, 'gini = 0.0\\nsamples = 20\\nvalue = [20, 0]'),\n",
       " Text(266.65486725663715, 198.25411764705882, 'X[0] <= 2.5\\ngini = 0.364\\nsamples = 234\\nvalue = [56, 178]'),\n",
       " Text(226.6566371681416, 185.4635294117647, 'X[2] <= 2.5\\ngini = 0.09\\nsamples = 127\\nvalue = [6, 121]'),\n",
       " Text(223.6938053097345, 172.6729411764706, 'gini = 0.0\\nsamples = 1\\nvalue = [1, 0]'),\n",
       " Text(229.61946902654867, 172.6729411764706, 'X[5] <= 26.125\\ngini = 0.076\\nsamples = 126\\nvalue = [5, 121]'),\n",
       " Text(223.6938053097345, 159.88235294117646, 'X[2] <= 53.5\\ngini = 0.176\\nsamples = 41\\nvalue = [4, 37]'),\n",
       " Text(220.73097345132743, 147.09176470588235, 'X[2] <= 27.5\\ngini = 0.139\\nsamples = 40\\nvalue = [3, 37]'),\n",
       " Text(217.76814159292036, 134.30117647058825, 'X[2] <= 25.5\\ngini = 0.305\\nsamples = 16\\nvalue = [3, 13]'),\n",
       " Text(211.8424778761062, 121.51058823529411, 'X[5] <= 13.396\\ngini = 0.153\\nsamples = 12\\nvalue = [1, 11]'),\n",
       " Text(208.87964601769912, 108.72, 'X[2] <= 22.5\\ngini = 0.375\\nsamples = 4\\nvalue = [1, 3]'),\n",
       " Text(205.91681415929204, 95.92941176470588, 'gini = 0.0\\nsamples = 2\\nvalue = [0, 2]'),\n",
       " Text(211.8424778761062, 95.92941176470588, 'gini = 0.5\\nsamples = 2\\nvalue = [1, 1]'),\n",
       " Text(214.8053097345133, 108.72, 'gini = 0.0\\nsamples = 8\\nvalue = [0, 8]'),\n",
       " Text(223.6938053097345, 121.51058823529411, 'X[5] <= 17.429\\ngini = 0.5\\nsamples = 4\\nvalue = [2, 2]'),\n",
       " Text(220.73097345132743, 108.72, 'gini = 0.0\\nsamples = 2\\nvalue = [0, 2]'),\n",
       " Text(226.6566371681416, 108.72, 'gini = 0.0\\nsamples = 2\\nvalue = [2, 0]'),\n",
       " Text(223.6938053097345, 134.30117647058825, 'gini = 0.0\\nsamples = 24\\nvalue = [0, 24]'),\n",
       " Text(226.6566371681416, 147.09176470588235, 'gini = 0.0\\nsamples = 1\\nvalue = [1, 0]'),\n",
       " Text(235.54513274336284, 159.88235294117646, 'X[5] <= 149.035\\ngini = 0.023\\nsamples = 85\\nvalue = [1, 84]'),\n",
       " Text(232.58230088495574, 147.09176470588235, 'gini = 0.0\\nsamples = 69\\nvalue = [0, 69]'),\n",
       " Text(238.5079646017699, 147.09176470588235, 'X[5] <= 152.506\\ngini = 0.117\\nsamples = 16\\nvalue = [1, 15]'),\n",
       " Text(235.54513274336284, 134.30117647058825, 'X[4] <= 1.0\\ngini = 0.5\\nsamples = 2\\nvalue = [1, 1]'),\n",
       " Text(232.58230088495574, 121.51058823529411, 'gini = 0.0\\nsamples = 1\\nvalue = [0, 1]'),\n",
       " Text(238.5079646017699, 121.51058823529411, 'gini = 0.0\\nsamples = 1\\nvalue = [1, 0]'),\n",
       " Text(241.47079646017698, 134.30117647058825, 'gini = 0.0\\nsamples = 14\\nvalue = [0, 14]'),\n",
       " Text(306.6530973451327, 185.4635294117647, 'X[5] <= 23.7\\ngini = 0.498\\nsamples = 107\\nvalue = [50, 57]'),\n",
       " Text(290.35752212389383, 172.6729411764706, 'X[6] <= 0.5\\ngini = 0.469\\nsamples = 88\\nvalue = [33, 55]'),\n",
       " Text(266.65486725663715, 159.88235294117646, 'X[5] <= 10.825\\ngini = 0.5\\nsamples = 48\\nvalue = [24, 24]'),\n",
       " Text(250.35929203539823, 147.09176470588235, 'X[5] <= 7.65\\ngini = 0.477\\nsamples = 28\\nvalue = [17, 11]'),\n",
       " Text(247.39646017699116, 134.30117647058825, 'gini = 0.0\\nsamples = 2\\nvalue = [0, 2]'),\n",
       " Text(253.3221238938053, 134.30117647058825, 'X[2] <= 19.5\\ngini = 0.453\\nsamples = 26\\nvalue = [17, 9]'),\n",
       " Text(247.39646017699116, 121.51058823529411, 'X[5] <= 7.89\\ngini = 0.444\\nsamples = 6\\nvalue = [2, 4]'),\n",
       " Text(244.43362831858406, 108.72, 'X[2] <= 18.5\\ngini = 0.444\\nsamples = 3\\nvalue = [2, 1]'),\n",
       " Text(241.47079646017698, 95.92941176470588, 'gini = 0.0\\nsamples = 2\\nvalue = [2, 0]'),\n",
       " Text(247.39646017699116, 95.92941176470588, 'gini = 0.0\\nsamples = 1\\nvalue = [0, 1]'),\n",
       " Text(250.35929203539823, 108.72, 'gini = 0.0\\nsamples = 3\\nvalue = [0, 3]'),\n",
       " Text(259.24778761061947, 121.51058823529411, 'X[2] <= 54.0\\ngini = 0.375\\nsamples = 20\\nvalue = [15, 5]'),\n",
       " Text(256.2849557522124, 108.72, 'X[5] <= 8.767\\ngini = 0.332\\nsamples = 19\\nvalue = [15, 4]'),\n",
       " Text(253.3221238938053, 95.92941176470588, 'X[5] <= 8.673\\ngini = 0.444\\nsamples = 12\\nvalue = [8, 4]'),\n",
       " Text(250.35929203539823, 83.13882352941175, 'X[2] <= 27.5\\ngini = 0.397\\nsamples = 11\\nvalue = [8, 3]'),\n",
       " Text(247.39646017699116, 70.34823529411764, 'X[2] <= 25.5\\ngini = 0.49\\nsamples = 7\\nvalue = [4, 3]'),\n",
       " Text(244.43362831858406, 57.557647058823534, 'X[5] <= 7.763\\ngini = 0.32\\nsamples = 5\\nvalue = [4, 1]'),\n",
       " Text(241.47079646017698, 44.767058823529396, 'gini = 0.0\\nsamples = 1\\nvalue = [0, 1]'),\n",
       " Text(247.39646017699116, 44.767058823529396, 'gini = 0.0\\nsamples = 4\\nvalue = [4, 0]'),\n",
       " Text(250.35929203539823, 57.557647058823534, 'gini = 0.0\\nsamples = 2\\nvalue = [0, 2]'),\n",
       " Text(253.3221238938053, 70.34823529411764, 'gini = 0.0\\nsamples = 4\\nvalue = [4, 0]'),\n",
       " Text(256.2849557522124, 83.13882352941175, 'gini = 0.0\\nsamples = 1\\nvalue = [0, 1]'),\n",
       " Text(259.24778761061947, 95.92941176470588, 'gini = 0.0\\nsamples = 7\\nvalue = [7, 0]'),\n",
       " Text(262.21061946902654, 108.72, 'gini = 0.0\\nsamples = 1\\nvalue = [0, 1]'),\n",
       " Text(282.9504424778761, 147.09176470588235, 'X[2] <= 38.5\\ngini = 0.455\\nsamples = 20\\nvalue = [7, 13]'),\n",
       " Text(279.987610619469, 134.30117647058825, 'X[5] <= 17.6\\ngini = 0.401\\nsamples = 18\\nvalue = [5, 13]'),\n",
       " Text(271.0991150442478, 121.51058823529411, 'X[2] <= 25.0\\ngini = 0.26\\nsamples = 13\\nvalue = [2, 11]'),\n",
       " Text(268.1362831858407, 108.72, 'gini = 0.0\\nsamples = 5\\nvalue = [0, 5]'),\n",
       " Text(274.0619469026549, 108.72, 'X[2] <= 26.5\\ngini = 0.375\\nsamples = 8\\nvalue = [2, 6]'),\n",
       " Text(271.0991150442478, 95.92941176470588, 'gini = 0.0\\nsamples = 1\\nvalue = [1, 0]'),\n",
       " Text(277.02477876106195, 95.92941176470588, 'X[4] <= 0.5\\ngini = 0.245\\nsamples = 7\\nvalue = [1, 6]'),\n",
       " Text(274.0619469026549, 83.13882352941175, 'gini = 0.0\\nsamples = 4\\nvalue = [0, 4]'),\n",
       " Text(279.987610619469, 83.13882352941175, 'X[2] <= 27.5\\ngini = 0.444\\nsamples = 3\\nvalue = [1, 2]'),\n",
       " Text(277.02477876106195, 70.34823529411764, 'gini = 0.0\\nsamples = 2\\nvalue = [0, 2]'),\n",
       " Text(282.9504424778761, 70.34823529411764, 'gini = 0.0\\nsamples = 1\\nvalue = [1, 0]'),\n",
       " Text(288.87610619469024, 121.51058823529411, 'X[3] <= 2.0\\ngini = 0.48\\nsamples = 5\\nvalue = [3, 2]'),\n",
       " Text(285.91327433628317, 108.72, 'X[5] <= 19.025\\ngini = 0.444\\nsamples = 3\\nvalue = [1, 2]'),\n",
       " Text(282.9504424778761, 95.92941176470588, 'gini = 0.0\\nsamples = 1\\nvalue = [1, 0]'),\n",
       " Text(288.87610619469024, 95.92941176470588, 'gini = 0.0\\nsamples = 2\\nvalue = [0, 2]'),\n",
       " Text(291.83893805309737, 108.72, 'gini = 0.0\\nsamples = 2\\nvalue = [2, 0]'),\n",
       " Text(285.91327433628317, 134.30117647058825, 'gini = 0.0\\nsamples = 2\\nvalue = [2, 0]'),\n",
       " Text(314.06017699115046, 159.88235294117646, 'X[2] <= 30.85\\ngini = 0.349\\nsamples = 40\\nvalue = [9, 31]'),\n",
       " Text(311.0973451327434, 147.09176470588235, 'X[5] <= 6.987\\ngini = 0.301\\nsamples = 38\\nvalue = [7, 31]'),\n",
       " Text(308.13451327433626, 134.30117647058825, 'gini = 0.0\\nsamples = 1\\nvalue = [1, 0]'),\n",
       " Text(314.06017699115046, 134.30117647058825, 'X[5] <= 15.373\\ngini = 0.272\\nsamples = 37\\nvalue = [6, 31]'),\n",
       " Text(311.0973451327434, 121.51058823529411, 'X[5] <= 13.935\\ngini = 0.355\\nsamples = 26\\nvalue = [6, 20]'),\n",
       " Text(300.7274336283186, 108.72, 'X[5] <= 8.008\\ngini = 0.18\\nsamples = 20\\nvalue = [2, 18]'),\n",
       " Text(294.80176991150444, 95.92941176470588, 'X[2] <= 25.35\\ngini = 0.111\\nsamples = 17\\nvalue = [1, 16]'),\n",
       " Text(291.83893805309737, 83.13882352941175, 'X[2] <= 18.5\\ngini = 0.32\\nsamples = 5\\nvalue = [1, 4]'),\n",
       " Text(288.87610619469024, 70.34823529411764, 'gini = 0.0\\nsamples = 4\\nvalue = [0, 4]'),\n",
       " Text(294.80176991150444, 70.34823529411764, 'gini = 0.0\\nsamples = 1\\nvalue = [1, 0]'),\n",
       " Text(297.7646017699115, 83.13882352941175, 'gini = 0.0\\nsamples = 12\\nvalue = [0, 12]'),\n",
       " Text(306.6530973451327, 95.92941176470588, 'X[2] <= 21.85\\ngini = 0.444\\nsamples = 3\\nvalue = [1, 2]'),\n",
       " Text(303.69026548672565, 83.13882352941175, 'gini = 0.0\\nsamples = 2\\nvalue = [0, 2]'),\n",
       " Text(309.61592920353985, 83.13882352941175, 'gini = 0.0\\nsamples = 1\\nvalue = [1, 0]'),\n",
       " Text(321.46725663716813, 108.72, 'X[2] <= 29.35\\ngini = 0.444\\nsamples = 6\\nvalue = [4, 2]'),\n",
       " Text(318.50442477876106, 95.92941176470588, 'X[2] <= 12.0\\ngini = 0.444\\nsamples = 3\\nvalue = [1, 2]'),\n",
       " Text(315.541592920354, 83.13882352941175, 'gini = 0.0\\nsamples = 1\\nvalue = [1, 0]'),\n",
       " Text(321.46725663716813, 83.13882352941175, 'gini = 0.0\\nsamples = 2\\nvalue = [0, 2]'),\n",
       " Text(324.4300884955752, 95.92941176470588, 'gini = 0.0\\nsamples = 3\\nvalue = [3, 0]'),\n",
       " Text(317.0230088495575, 121.51058823529411, 'gini = 0.0\\nsamples = 11\\nvalue = [0, 11]'),\n",
       " Text(317.0230088495575, 147.09176470588235, 'gini = 0.0\\nsamples = 2\\nvalue = [2, 0]'),\n",
       " Text(322.94867256637167, 172.6729411764706, 'X[4] <= 0.5\\ngini = 0.188\\nsamples = 19\\nvalue = [17, 2]'),\n",
       " Text(319.9858407079646, 159.88235294117646, 'gini = 0.0\\nsamples = 1\\nvalue = [0, 1]'),\n",
       " Text(325.91150442477874, 159.88235294117646, 'X[4] <= 4.5\\ngini = 0.105\\nsamples = 18\\nvalue = [17, 1]'),\n",
       " Text(322.94867256637167, 147.09176470588235, 'gini = 0.0\\nsamples = 14\\nvalue = [14, 0]'),\n",
       " Text(328.8743362831858, 147.09176470588235, 'X[2] <= 38.5\\ngini = 0.375\\nsamples = 4\\nvalue = [3, 1]'),\n",
       " Text(325.91150442477874, 134.30117647058825, 'gini = 0.0\\nsamples = 1\\nvalue = [0, 1]'),\n",
       " Text(331.83716814159294, 134.30117647058825, 'gini = 0.0\\nsamples = 3\\nvalue = [3, 0]')]"
      ]
     },
     "execution_count": 37,
     "metadata": {},
     "output_type": "execute_result"
    },
    {
     "data": {
      "image/png": "[encoded data removed]",
      "text/plain": [
       "<Figure size 432x288 with 1 Axes>"
      ]
     },
     "metadata": {},
     "output_type": "display_data"
    }
   ],
   "source": [
    "from sklearn import tree\n",
    "tree.plot_tree(clf)"
   ]
  },
  {
   "cell_type": "code",
   "execution_count": null,
   "id": "30243dad",
   "metadata": {},
   "outputs": [],
   "source": []
  }
 ],
 "metadata": {
  "kernelspec": {
   "display_name": "Python 3",
   "language": "python",
   "name": "python3"
  },
  "language_info": {
   "codemirror_mode": {
    "name": "ipython",
    "version": 3
   },
   "file_extension": ".py",
   "mimetype": "text/x-python",
   "name": "python",
   "nbconvert_exporter": "python",
   "pygments_lexer": "ipython3",
   "version": "3.6.5"
  }
 },
 "nbformat": 4,
 "nbformat_minor": 5
}
