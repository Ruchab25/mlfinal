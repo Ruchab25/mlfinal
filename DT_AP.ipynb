{
 "cells": [
  {
   "cell_type": "code",
   "execution_count": 22,
   "id": "cb5fd17a",
   "metadata": {},
   "outputs": [],
   "source": [
    "import pandas as pd\n",
    "import numpy as np\n",
    "import matplotlib.pyplot as plt\n",
    "import seaborn as sns\n",
    "%matplotlib inline\n",
    "from sklearn.tree import DecisionTreeClassifier\n",
    "import sklearn.tree as tree\n",
    "import sys"
   ]
  },
  {
   "cell_type": "code",
   "execution_count": 23,
   "id": "e5239191",
   "metadata": {},
   "outputs": [],
   "source": [
    "data = pd.read_csv(\"E:/BeTech 3rd year/sem2/ML/Admission_Predict.csv\")"
   ]
  },
  {
   "cell_type": "code",
   "execution_count": 24,
   "id": "ee929a94",
   "metadata": {},
   "outputs": [
    {
     "name": "stdout",
     "output_type": "stream",
     "text": [
      "(400, 9)\n",
      "   Serial No.  GRE Score  TOEFL Score  University Rating  SOP  LOR  CGPA  \\\n",
      "0           1        337          118                  4  4.5  4.5  9.65   \n",
      "1           2        324          107                  4  4.0  4.5  8.87   \n",
      "2           3        316          104                  3  3.0  3.5  8.00   \n",
      "3           4        322          110                  3  3.5  2.5  8.67   \n",
      "4           5        314          103                  2  2.0  3.0  8.21   \n",
      "\n",
      "   Research  Chance of Admit  \n",
      "0         1             0.92  \n",
      "1         1             0.76  \n",
      "2         1             0.72  \n",
      "3         1             0.80  \n",
      "4         0             0.65  \n",
      "Index(['Serial No.', 'GRE Score', 'TOEFL Score', 'University Rating', 'SOP',\n",
      "       'LOR', 'CGPA', 'Research', 'Chance of Admit'],\n",
      "      dtype='object')\n"
     ]
    }
   ],
   "source": [
    "print(data.shape)\n",
    "print(data.head())\n",
    "print(data.columns)"
   ]
  },
  {
   "cell_type": "code",
   "execution_count": 25,
   "id": "263fef00",
   "metadata": {},
   "outputs": [
    {
     "name": "stdout",
     "output_type": "stream",
     "text": [
      "       Serial No.   GRE Score  TOEFL Score  University Rating         SOP  \\\n",
      "count  400.000000  400.000000   400.000000         400.000000  400.000000   \n",
      "mean   200.500000  316.807500   107.410000           3.087500    3.400000   \n",
      "std    115.614301   11.473646     6.069514           1.143728    1.006869   \n",
      "min      1.000000  290.000000    92.000000           1.000000    1.000000   \n",
      "25%    100.750000  308.000000   103.000000           2.000000    2.500000   \n",
      "50%    200.500000  317.000000   107.000000           3.000000    3.500000   \n",
      "75%    300.250000  325.000000   112.000000           4.000000    4.000000   \n",
      "max    400.000000  340.000000   120.000000           5.000000    5.000000   \n",
      "\n",
      "              LOR        CGPA    Research  Chance of Admit  \n",
      "count  400.000000  400.000000  400.000000       400.000000  \n",
      "mean     3.452500    8.598925    0.547500         0.724350  \n",
      "std      0.898478    0.596317    0.498362         0.142609  \n",
      "min      1.000000    6.800000    0.000000         0.340000  \n",
      "25%      3.000000    8.170000    0.000000         0.640000  \n",
      "50%      3.500000    8.610000    1.000000         0.730000  \n",
      "75%      4.000000    9.062500    1.000000         0.830000  \n",
      "max      5.000000    9.920000    1.000000         0.970000  \n"
     ]
    }
   ],
   "source": [
    "print(data.describe())"
   ]
  },
  {
   "cell_type": "code",
   "execution_count": 29,
   "id": "85d29143",
   "metadata": {},
   "outputs": [
    {
     "name": "stdout",
     "output_type": "stream",
     "text": [
      "0    1\n",
      "1    0\n",
      "2    0\n",
      "3    0\n",
      "4    0\n",
      "Name: Chance of Admit, dtype: int32\n"
     ]
    }
   ],
   "source": [
    "features_cols = ['Serial No.', 'GRE Score', 'TOEFL Score', 'University Rating', 'SOP', 'LOR', 'CGPA', 'Research']\n",
    "X = data[features_cols]\n",
    "\n",
    "data['Chance of Admit'] = np.where(data['Chance of Admit']>=0.9,1,0)\n",
    "print(data['Chance of Admit'].head())\n",
    "y = data['Chance of Admit']\n"
   ]
  },
  {
   "cell_type": "code",
   "execution_count": 30,
   "id": "2156c1a2",
   "metadata": {},
   "outputs": [],
   "source": [
    "from sklearn.model_selection import train_test_split"
   ]
  },
  {
   "cell_type": "code",
   "execution_count": 31,
   "id": "a2263bfc",
   "metadata": {},
   "outputs": [],
   "source": [
    "X_trainset, X_testset, y_trainset, y_testset = train_test_split(X, y, test_size=0.3, random_state=3)"
   ]
  },
  {
   "cell_type": "code",
   "execution_count": 32,
   "id": "71c8787d",
   "metadata": {},
   "outputs": [
    {
     "data": {
      "text/plain": [
       "DecisionTreeClassifier(criterion='entropy', max_depth=4)"
      ]
     },
     "execution_count": 32,
     "metadata": {},
     "output_type": "execute_result"
    }
   ],
   "source": [
    "drugTree = DecisionTreeClassifier(criterion=\"entropy\", max_depth = 4)\n",
    "drugTree # it shows the default parameters"
   ]
  },
  {
   "cell_type": "code",
   "execution_count": 34,
   "id": "8a659305",
   "metadata": {},
   "outputs": [
    {
     "data": {
      "text/plain": [
       "DecisionTreeClassifier(criterion='entropy', max_depth=4)"
      ]
     },
     "execution_count": 34,
     "metadata": {},
     "output_type": "execute_result"
    }
   ],
   "source": [
    "drugTree.fit(X_trainset,y_trainset)"
   ]
  },
  {
   "cell_type": "code",
   "execution_count": 35,
   "id": "eee4e375",
   "metadata": {},
   "outputs": [],
   "source": [
    "predTree = drugTree.predict(X_testset)"
   ]
  },
  {
   "cell_type": "code",
   "execution_count": 39,
   "id": "f443b3f9",
   "metadata": {},
   "outputs": [
    {
     "name": "stdout",
     "output_type": "stream",
     "text": [
      "Accuracy: 1.0\n",
      "Accuracy: 0.95\n",
      "0.9571428571428571\n"
     ]
    }
   ],
   "source": [
    "from sklearn.tree import DecisionTreeClassifier\n",
    "from sklearn.model_selection import cross_val_score\n",
    "from sklearn.model_selection import train_test_split\n",
    "from sklearn import metrics\n",
    "\n",
    "x_train, x_test, y_train, y_test = train_test_split(X, Y, test_size= 0.3)\n",
    "\n",
    "clf = DecisionTreeClassifier()\n",
    "clf = clf.fit(x_train, y_train)\n",
    "y_pred = clf.predict(x_test)\n",
    "Y_train_pred = clf.predict(x_train)\n",
    "print(\"Accuracy:\",metrics.accuracy_score(y_train, Y_train_pred))#training accuracy\n",
    "print(\"Accuracy:\",metrics.accuracy_score(y_test, y_pred))#testing accuracy\n",
    "\n",
    "clf1 = DecisionTreeClassifier()\n",
    "print(cross_val_score(clf1, x_train, y_train, cv=10, scoring='accuracy').mean())"
   ]
  },
  {
   "cell_type": "code",
   "execution_count": 40,
   "id": "f46d0c1d",
   "metadata": {},
   "outputs": [
    {
     "data": {
      "text/plain": [
       "[Text(141.64615384615385, 201.90857142857143, 'X[6] <= 9.185\\ngini = 0.229\\nsamples = 280\\nvalue = [243, 37]'),\n",
       " Text(51.50769230769231, 170.84571428571428, 'X[2] <= 118.0\\ngini = 0.008\\nsamples = 237\\nvalue = [236, 1]'),\n",
       " Text(25.753846153846155, 139.78285714285715, 'gini = 0.0\\nsamples = 234\\nvalue = [234, 0]'),\n",
       " Text(77.26153846153846, 139.78285714285715, 'X[4] <= 4.25\\ngini = 0.444\\nsamples = 3\\nvalue = [2, 1]'),\n",
       " Text(51.50769230769231, 108.72, 'gini = 0.0\\nsamples = 2\\nvalue = [2, 0]'),\n",
       " Text(103.01538461538462, 108.72, 'gini = 0.0\\nsamples = 1\\nvalue = [0, 1]'),\n",
       " Text(231.7846153846154, 170.84571428571428, 'X[2] <= 113.5\\ngini = 0.273\\nsamples = 43\\nvalue = [7, 36]'),\n",
       " Text(180.27692307692308, 139.78285714285715, 'X[5] <= 4.25\\ngini = 0.5\\nsamples = 12\\nvalue = [6, 6]'),\n",
       " Text(154.52307692307693, 108.72, 'gini = 0.0\\nsamples = 4\\nvalue = [4, 0]'),\n",
       " Text(206.03076923076924, 108.72, 'X[6] <= 9.21\\ngini = 0.375\\nsamples = 8\\nvalue = [2, 6]'),\n",
       " Text(180.27692307692308, 77.65714285714284, 'gini = 0.0\\nsamples = 1\\nvalue = [1, 0]'),\n",
       " Text(231.7846153846154, 77.65714285714284, 'X[2] <= 112.5\\ngini = 0.245\\nsamples = 7\\nvalue = [1, 6]'),\n",
       " Text(206.03076923076924, 46.59428571428572, 'gini = 0.0\\nsamples = 5\\nvalue = [0, 5]'),\n",
       " Text(257.53846153846155, 46.59428571428572, 'X[3] <= 4.5\\ngini = 0.5\\nsamples = 2\\nvalue = [1, 1]'),\n",
       " Text(231.7846153846154, 15.531428571428563, 'gini = 0.0\\nsamples = 1\\nvalue = [0, 1]'),\n",
       " Text(283.2923076923077, 15.531428571428563, 'gini = 0.0\\nsamples = 1\\nvalue = [1, 0]'),\n",
       " Text(283.2923076923077, 139.78285714285715, 'X[7] <= 0.5\\ngini = 0.062\\nsamples = 31\\nvalue = [1, 30]'),\n",
       " Text(257.53846153846155, 108.72, 'gini = 0.0\\nsamples = 1\\nvalue = [1, 0]'),\n",
       " Text(309.04615384615386, 108.72, 'gini = 0.0\\nsamples = 30\\nvalue = [0, 30]')]"
      ]
     },
     "execution_count": 40,
     "metadata": {},
     "output_type": "execute_result"
    },
    {
     "data": {
      "image/png": "[encoded data removed]",
      "text/plain": [
       "<Figure size 432x288 with 1 Axes>"
      ]
     },
     "metadata": {
      "needs_background": "light"
     },
     "output_type": "display_data"
    }
   ],
   "source": [
    "from sklearn import tree\n",
    "tree.plot_tree(clf)"
   ]
  },
  {
   "cell_type": "code",
   "execution_count": null,
   "id": "c9553230",
   "metadata": {},
   "outputs": [],
   "source": []
  },
  {
   "cell_type": "code",
   "execution_count": null,
   "id": "3a2a9c4d",
   "metadata": {},
   "outputs": [],
   "source": []
  },
  {
   "cell_type": "code",
   "execution_count": null,
   "id": "eaebf2bb",
   "metadata": {},
   "outputs": [],
   "source": []
  },
  {
   "cell_type": "code",
   "execution_count": null,
   "id": "e076ce2a",
   "metadata": {},
   "outputs": [],
   "source": []
  }
 ],
 "metadata": {
  "kernelspec": {
   "display_name": "Python 3",
   "language": "python",
   "name": "python3"
  },
  "language_info": {
   "codemirror_mode": {
    "name": "ipython",
    "version": 3
   },
   "file_extension": ".py",
   "mimetype": "text/x-python",
   "name": "python",
   "nbconvert_exporter": "python",
   "pygments_lexer": "ipython3",
   "version": "3.6.5"
  }
 },
 "nbformat": 4,
 "nbformat_minor": 5
}
